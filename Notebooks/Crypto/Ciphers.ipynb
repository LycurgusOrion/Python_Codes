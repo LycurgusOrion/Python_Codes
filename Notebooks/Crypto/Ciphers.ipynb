{
 "cells": [
  {
   "cell_type": "code",
   "execution_count": 1,
   "metadata": {},
   "outputs": [],
   "source": [
    "import numpy as np"
   ]
  },
  {
   "cell_type": "code",
   "execution_count": 2,
   "metadata": {},
   "outputs": [],
   "source": [
    "D = {chr(ord(\"A\") + i) : i for i in range(26)}"
   ]
  },
  {
   "cell_type": "code",
   "execution_count": 3,
   "metadata": {},
   "outputs": [
    {
     "name": "stdout",
     "output_type": "stream",
     "text": [
      "Enter text to Encrypt: kjnkjn\n",
      "Enter Key: kjhkj\n"
     ]
    },
    {
     "data": {
      "text/plain": [
       "'GEGGEJ'"
      ]
     },
     "execution_count": 3,
     "metadata": {},
     "output_type": "execute_result"
    }
   ],
   "source": [
    "# Vigenere ENCRYPTION\n",
    "P = input(\"Enter text to Encrypt: \")\n",
    "k = input(\"Enter Key: \")\n",
    "K = \"\".join([k[i%len(k)] for i in range(len(P))])\n",
    "C = [i for x in [((ord(x)+ord(y))%26) for x, y in zip(P, K)] for (i, j) in D.items() if j == x]\n",
    "C = \"\".join(C)\n",
    "C"
   ]
  },
  {
   "cell_type": "code",
   "execution_count": 4,
   "metadata": {},
   "outputs": [
    {
     "name": "stdout",
     "output_type": "stream",
     "text": [
      "Enter text to Decrypt: GEGGEJ\n",
      "Enter Key: kjhkj\n"
     ]
    },
    {
     "data": {
      "text/plain": [
       "'QPTQPT'"
      ]
     },
     "execution_count": 4,
     "metadata": {},
     "output_type": "execute_result"
    }
   ],
   "source": [
    "# Vigenere DECRYPTION\n",
    "P = input(\"Enter text to Decrypt: \")\n",
    "k = input(\"Enter Key: \")\n",
    "K = \"\".join([k[i%len(k)] for i in range(len(P))])\n",
    "C = [i for x in [(((ord(x)-ord(y) + 26)%26) if ((ord(x)-ord(y)) < 0) else ((ord(x)-ord(y))%26)) for x, y in zip(P, K)] for (i, j) in D.items() if j == x]\n",
    "C = \"\".join(C)\n",
    "C"
   ]
  },
  {
   "cell_type": "code",
   "execution_count": 5,
   "metadata": {},
   "outputs": [],
   "source": [
    "def search(mat, x):\n",
    "    for i in range(5):\n",
    "        for j in range(5):\n",
    "            if (mat[i][j] == x):\n",
    "                return 1\n",
    "    return 0"
   ]
  },
  {
   "cell_type": "code",
   "execution_count": 6,
   "metadata": {},
   "outputs": [
    {
     "name": "stdout",
     "output_type": "stream",
     "text": [
      "Enter the Key: potty\n",
      "[[0, 0, 0, 0, 0], [0, 0, 0, 0, 0], [0, 0, 0, 0, 0], [0, 0, 0, 0, 0], [0, 0, 0, 0, 0]] ptyo 4 ['A', 'B', 'C', 'D', 'E', 'F', 'G', 'H', 'I', 'K', 'L', 'M', 'N', 'O', 'P', 'Q', 'R', 'S', 'T', 'U', 'V', 'W', 'X', 'Y', 'Z']\n",
      "p 0\n",
      "t 1\n",
      "y 2\n",
      "o 3\n"
     ]
    },
    {
     "data": {
      "text/plain": [
       "[['p', 't', 'y', 'o', 'Z'],\n",
       " ['Y', 'X', 'W', 'V', 'U'],\n",
       " ['T', 'S', 'R', 'Q', 'P'],\n",
       " ['O', 'N', 'M', 'L', 'K'],\n",
       " ['I', 'H', 'G', 'F', 'E']]"
      ]
     },
     "execution_count": 6,
     "metadata": {},
     "output_type": "execute_result"
    }
   ],
   "source": [
    "# Playfair ENCRYPTION\n",
    "K = \"\".join(list(set(input(\"Enter the Key: \"))))\n",
    "mat = [[0 for i in range(5)] for i in range(5)]\n",
    "A = [chr(ord(\"A\") + i) for i in range(26)]\n",
    "y = A.pop(A.index(\"J\"))\n",
    "print(mat, K, len(K), A)\n",
    "r, c, k, j = 0, 0, 0, 0\n",
    "for r in range(5):\n",
    "    for c in range(5):\n",
    "        if k >= len(K):\n",
    "            for x in A:\n",
    "                if search(mat, x) == 0:\n",
    "                    mat[r][c] = x\n",
    "        else:\n",
    "            mat[r][c] = K[k]\n",
    "            print(mat[r][c], k)\n",
    "            k += 1\n",
    "mat"
   ]
  },
  {
   "cell_type": "code",
   "execution_count": 7,
   "metadata": {},
   "outputs": [
    {
     "name": "stdout",
     "output_type": "stream",
     "text": [
      "Enter Plain Text: poittyuity\n",
      "poittyuity\n"
     ]
    },
    {
     "data": {
      "text/plain": [
       "['po', 'it', 'ty', 'ui', 'ty']"
      ]
     },
     "execution_count": 7,
     "metadata": {},
     "output_type": "execute_result"
    }
   ],
   "source": [
    "P = input(\"Enter Plain Text: \")\n",
    "P = \"\".join(P.split(\" \"))\n",
    "print(P)\n",
    "PL = []\n",
    "i = 0\n",
    "while i < len(P):\n",
    "    try:\n",
    "        PL.append(P[i] + P[i+1]) \n",
    "        i += 2\n",
    "    except:\n",
    "        PL.append(P[i])\n",
    "        break\n",
    "\n",
    "if len(PL[-1]) == 1:\n",
    "    PL[-1] += \"X\"\n",
    "PL"
   ]
  },
  {
   "cell_type": "code",
   "execution_count": null,
   "metadata": {
    "scrolled": true
   },
   "outputs": [],
   "source": []
  },
  {
   "cell_type": "code",
   "execution_count": null,
   "metadata": {},
   "outputs": [],
   "source": []
  }
 ],
 "metadata": {
  "kernelspec": {
   "display_name": "Python 3",
   "language": "python",
   "name": "python3"
  },
  "language_info": {
   "codemirror_mode": {
    "name": "ipython",
    "version": 3
   },
   "file_extension": ".py",
   "mimetype": "text/x-python",
   "name": "python",
   "nbconvert_exporter": "python",
   "pygments_lexer": "ipython3",
   "version": "3.6.6"
  }
 },
 "nbformat": 4,
 "nbformat_minor": 2
}
