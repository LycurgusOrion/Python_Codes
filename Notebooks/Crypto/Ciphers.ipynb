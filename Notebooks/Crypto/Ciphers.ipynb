{
 "cells": [
  {
   "cell_type": "code",
   "execution_count": 1,
   "metadata": {},
   "outputs": [],
   "source": [
    "import numpy as np"
   ]
  },
  {
   "cell_type": "code",
   "execution_count": 2,
   "metadata": {},
   "outputs": [],
   "source": [
    "D = {chr(ord(\"A\") + i) : i for i in range(26)}"
   ]
  },
  {
   "cell_type": "code",
   "execution_count": 3,
   "metadata": {},
   "outputs": [
    {
     "name": "stdout",
     "output_type": "stream",
     "text": [
      "Enter text to Encrypt: THEKEYISHIDDEN\n",
      "Enter Key: NOTHIDDEN\n"
     ]
    },
    {
     "data": {
      "text/plain": [
       "'GVXRMBLWUVRWLV'"
      ]
     },
     "execution_count": 3,
     "metadata": {},
     "output_type": "execute_result"
    }
   ],
   "source": [
    "# Vigenere ENCRYPTION\n",
    "P = input(\"Enter text to Encrypt: \")\n",
    "k = input(\"Enter Key: \")\n",
    "K = \"\".join([k[i%len(k)] for i in range(len(P))])\n",
    "C = [i for x in [((ord(x)+ord(y))%26) for x, y in zip(P, K)] for (i, j) in D.items() if j == x]\n",
    "C = \"\".join(C)\n",
    "C"
   ]
  },
  {
   "cell_type": "code",
   "execution_count": 5,
   "metadata": {},
   "outputs": [
    {
     "name": "stdout",
     "output_type": "stream",
     "text": [
      "Enter text to Decrypt: GVXRMBLWUVRWLV\n",
      "Enter Key: NOTHIDDEN\n"
     ]
    },
    {
     "data": {
      "text/plain": [
       "'THEKEYISHIDDEN'"
      ]
     },
     "execution_count": 5,
     "metadata": {},
     "output_type": "execute_result"
    }
   ],
   "source": [
    "# Vigenere DECRYPTION\n",
    "P = input(\"Enter text to Decrypt: \")\n",
    "k = input(\"Enter Key: \")\n",
    "K = \"\".join([k[i%len(k)] for i in range(len(P))])\n",
    "C = [i for x in [(((ord(x)-ord(y) + 26)%26) if ((ord(x)-ord(y)) < 0) else ((ord(x)-ord(y))%26)) for x, y in zip(P, K)] for (i, j) in D.items() if j == x]\n",
    "C = \"\".join(C)\n",
    "C"
   ]
  },
  {
   "cell_type": "code",
   "execution_count": 6,
   "metadata": {},
   "outputs": [],
   "source": [
    "def search(mat, x):\n",
    "    for i in range(5):\n",
    "        for j in range(5):\n",
    "            if (mat[i][j] == x):\n",
    "                return 1\n",
    "    return 0"
   ]
  },
  {
   "cell_type": "code",
   "execution_count": 7,
   "metadata": {},
   "outputs": [
    {
     "name": "stdout",
     "output_type": "stream",
     "text": [
      "Enter the Key: KEYWORD\n",
      "[[0, 0, 0, 0, 0], [0, 0, 0, 0, 0], [0, 0, 0, 0, 0], [0, 0, 0, 0, 0], [0, 0, 0, 0, 0]] ERDKWOY 7 ['A', 'B', 'C', 'D', 'E', 'F', 'G', 'H', 'I', 'K', 'L', 'M', 'N', 'O', 'P', 'Q', 'R', 'S', 'T', 'U', 'V', 'W', 'X', 'Y', 'Z']\n",
      "E 0\n",
      "R 1\n",
      "D 2\n",
      "K 3\n",
      "W 4\n",
      "O 5\n",
      "Y 6\n"
     ]
    },
    {
     "data": {
      "text/plain": [
       "[['E', 'R', 'D', 'K', 'W'],\n",
       " ['O', 'Y', 'Z', 'X', 'V'],\n",
       " ['U', 'T', 'S', 'Q', 'P'],\n",
       " ['N', 'M', 'L', 'I', 'H'],\n",
       " ['G', 'F', 'C', 'B', 'A']]"
      ]
     },
     "execution_count": 7,
     "metadata": {},
     "output_type": "execute_result"
    }
   ],
   "source": [
    "# Playfair ENCRYPTION\n",
    "K = \"\".join(list(set(input(\"Enter the Key: \"))))\n",
    "mat = [[0 for i in range(5)] for i in range(5)]\n",
    "A = [chr(ord(\"A\") + i) for i in range(26)]\n",
    "y = A.pop(A.index(\"J\"))\n",
    "print(mat, K, len(K), A)\n",
    "r, c, k, j = 0, 0, 0, 0\n",
    "for r in range(5):\n",
    "    for c in range(5):\n",
    "        if k >= len(K):\n",
    "            for x in A:\n",
    "                if search(mat, x) == 0:\n",
    "                    mat[r][c] = x\n",
    "        else:\n",
    "            mat[r][c] = K[k]\n",
    "            print(mat[r][c], k)\n",
    "            k += 1\n",
    "mat"
   ]
  },
  {
   "cell_type": "code",
   "execution_count": 4,
   "metadata": {},
   "outputs": [
    {
     "name": "stdout",
     "output_type": "stream",
     "text": [
      "Enter Plain Text: HELLO WORLD HOW YOU DOING\n",
      "HELLOWORLDHOWYOUDOING\n"
     ]
    },
    {
     "data": {
      "text/plain": [
       "['HE', 'LL', 'OW', 'OR', 'LD', 'HO', 'WY', 'OU', 'DO', 'IN', 'GX']"
      ]
     },
     "execution_count": 4,
     "metadata": {},
     "output_type": "execute_result"
    }
   ],
   "source": [
    "P = input(\"Enter Plain Text: \")\n",
    "P = \"\".join(P.split(\" \"))\n",
    "print(P)\n",
    "PL = []\n",
    "i = 0\n",
    "while i < len(P):\n",
    "    try:\n",
    "        PL.append(P[i] + P[i+1]) \n",
    "        i += 2\n",
    "    except:\n",
    "        PL.append(P[i])\n",
    "        break\n",
    "\n",
    "if len(PL[-1]) == 1:\n",
    "    PL[-1] += \"X\"\n",
    "PL"
   ]
  },
  {
   "cell_type": "code",
   "execution_count": 19,
   "metadata": {
    "scrolled": true
   },
   "outputs": [
    {
     "data": {
      "text/plain": [
       "0"
      ]
     },
     "execution_count": 19,
     "metadata": {},
     "output_type": "execute_result"
    }
   ],
   "source": [
    "r, c = mat, mat\n",
    "for i in PL:\n",
    "    for x in range(r):\n",
    "        for y in range(c):\n",
    "            if (i[0] in mat[x]) and (i[1] in mat[x]):\n",
    "                pos = mat[x].index(i[0])\n",
    "                i[0] = mat[x][(pos + 1) % c]\n",
    "            elif ()\n",
    "            "
   ]
  },
  {
   "cell_type": "code",
   "execution_count": null,
   "metadata": {},
   "outputs": [],
   "source": []
  }
 ],
 "metadata": {
  "kernelspec": {
   "display_name": "Python 3",
   "language": "python",
   "name": "python3"
  },
  "language_info": {
   "codemirror_mode": {
    "name": "ipython",
    "version": 3
   },
   "file_extension": ".py",
   "mimetype": "text/x-python",
   "name": "python",
   "nbconvert_exporter": "python",
   "pygments_lexer": "ipython3",
   "version": "3.6.6"
  }
 },
 "nbformat": 4,
 "nbformat_minor": 2
}
