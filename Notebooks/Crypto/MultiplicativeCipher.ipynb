{
 "cells": [
  {
   "cell_type": "markdown",
   "metadata": {},
   "source": [
    "# Multiplicative Cipher"
   ]
  },
  {
   "cell_type": "markdown",
   "metadata": {},
   "source": [
    "##### *Encryption*"
   ]
  },
  {
   "cell_type": "code",
   "execution_count": 7,
   "metadata": {},
   "outputs": [
    {
     "name": "stdout",
     "output_type": "stream",
     "text": [
      "Enter Plain Text: Simplest Plain Text\n",
      "Enter KEY: 9\n",
      "Valid Key!\n"
     ]
    }
   ],
   "source": [
    "P = input(\"Enter Plain Text: \").upper()\n",
    "K = int(input(\"Enter KEY: \"))\n",
    "Z_star = [1, 9, 21, 15, 3, 19, 7, 23, 11, 5, 17, 25]\n",
    "print(\"Invalid Key!\") if K not in Z_star else print(\"Valid Key!\")"
   ]
  },
  {
   "cell_type": "code",
   "execution_count": 10,
   "metadata": {},
   "outputs": [
    {
     "data": {
      "text/plain": [
       "'GUEFVKGP FVAUN PKZP'"
      ]
     },
     "execution_count": 10,
     "metadata": {},
     "output_type": "execute_result"
    }
   ],
   "source": [
    "C = \"\".join([chr((((ord(x)*K)-65)%26)+65) if (ord(x) is not ord(\" \")) else x for x in P]).upper()\n",
    "C"
   ]
  },
  {
   "cell_type": "markdown",
   "metadata": {},
   "source": [
    "##### *Decryption*"
   ]
  },
  {
   "cell_type": "code",
   "execution_count": 12,
   "metadata": {},
   "outputs": [
    {
     "name": "stdout",
     "output_type": "stream",
     "text": [
      "Enter Cipher Text: GUEFVKGP FVAUN PKZP\n",
      "Enter KEY: 9\n",
      "Valid Key!\n"
     ]
    }
   ],
   "source": [
    "C = input(\"Enter Cipher Text: \")\n",
    "K = int(input(\"Enter KEY: \"))\n",
    "Z_star = [1, 9, 21, 15, 3, 19, 7, 23, 11, 5, 17, 25]\n",
    "print(\"Invalid Key!\") if K not in Z_star else print(\"Valid Key!\")"
   ]
  },
  {
   "cell_type": "code",
   "execution_count": 13,
   "metadata": {},
   "outputs": [
    {
     "data": {
      "text/plain": [
       "'SIMPLEST PLAIN TEXT'"
      ]
     },
     "execution_count": 13,
     "metadata": {},
     "output_type": "execute_result"
    }
   ],
   "source": [
    "P = \"\".join([chr((((ord(x)*find_MI(K, 26))-65)%26)+65) if (ord(x) is not ord(\" \")) else x for x in C]).upper()\n",
    "P"
   ]
  },
  {
   "cell_type": "markdown",
   "metadata": {},
   "source": [
    "##### *Function to find Multiplicative Inverse*"
   ]
  },
  {
   "cell_type": "code",
   "execution_count": null,
   "metadata": {},
   "outputs": [],
   "source": [
    "def find_MI(x, n):\n",
    "    r1, r2 = n, x\n",
    "    t1, t2 = 0, 1\n",
    "    q, r, t = 0, 0, 0\n",
    "    while (r2 > 0):\n",
    "        q = r1 // r2\n",
    "        r = r1 - (q * r2)\n",
    "        t = t1 - (q * t2)\n",
    "        r1, r2, t1, t2 = r2, r, t2, t\n",
    "    \n",
    "    if r1 is 1:\n",
    "        mi = t1 if (t1 > 0) else (t1 + n)\n",
    "        return mi"
   ]
  }
 ],
 "metadata": {
  "kernelspec": {
   "display_name": "Python 3",
   "language": "python",
   "name": "python3"
  },
  "language_info": {
   "codemirror_mode": {
    "name": "ipython",
    "version": 3
   },
   "file_extension": ".py",
   "mimetype": "text/x-python",
   "name": "python",
   "nbconvert_exporter": "python",
   "pygments_lexer": "ipython3",
   "version": "3.6.6"
  }
 },
 "nbformat": 4,
 "nbformat_minor": 2
}
