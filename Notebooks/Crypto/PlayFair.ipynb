{
 "cells": [
  {
   "cell_type": "code",
   "execution_count": 1,
   "metadata": {},
   "outputs": [],
   "source": [
    "import numpy as np"
   ]
  },
  {
   "cell_type": "code",
   "execution_count": 28,
   "metadata": {},
   "outputs": [],
   "source": [
    "def search(mat, x):\n",
    "    for i in range(5):\n",
    "        for j in range(5):\n",
    "            if (mat[i][j] == x):\n",
    "                return 1\n",
    "    return 0"
   ]
  },
  {
   "cell_type": "code",
   "execution_count": 29,
   "metadata": {},
   "outputs": [],
   "source": [
    "def generate_key(K):\n",
    "    \n",
    "    mat = [[0 for i in range(5)] for i in range(5)]\n",
    "    \n",
    "    A = [chr(ord(\"A\") + i) for i in range(26)]\n",
    "    y = A.pop(A.index(\"J\"))\n",
    "    \n",
    "#     print(mat, K, len(K), A)\n",
    "    \n",
    "    r, c, k, j = 0, 0, 0, 0\n",
    "    \n",
    "    for r in range(5):\n",
    "        for c in range(5):\n",
    "            if k >= len(K):\n",
    "                for x in A:\n",
    "                    if search(mat, x) == 0:\n",
    "                        mat[r][c] = x\n",
    "            else:\n",
    "                mat[r][c] = K[k]\n",
    "                print(mat[r][c], k)\n",
    "                k += 1\n",
    "\n",
    "    return mat"
   ]
  },
  {
   "cell_type": "code",
   "execution_count": 30,
   "metadata": {},
   "outputs": [],
   "source": [
    "def search_in_mat(mat, x):\n",
    "    \n",
    "    arr = np.array(mat)\n",
    "    return np.where(arr == x)"
   ]
  },
  {
   "cell_type": "code",
   "execution_count": 31,
   "metadata": {},
   "outputs": [],
   "source": [
    "def create_couples(P):\n",
    "    \n",
    "    PL = []\n",
    "    i = 0\n",
    "    while i < len(P):\n",
    "        try:\n",
    "            PL.append(P[i] + P[i+1]) \n",
    "            i += 2\n",
    "        except:\n",
    "            PL.append(P[i])\n",
    "            break\n",
    "\n",
    "    if len(PL[-1]) == 1:\n",
    "        PL[-1] += \"X\"\n",
    "    \n",
    "    return PL"
   ]
  },
  {
   "cell_type": "code",
   "execution_count": 32,
   "metadata": {},
   "outputs": [],
   "source": [
    "def check_rules_encrypt(mat):\n",
    "    \n",
    "    couples = create_couples(mat)\n",
    "    for couple in couples:\n",
    "        x1 = search_in_mat(mat, couple[0])[0][0]\n",
    "        y1 = search_in_mat(mat, couple[0])[1][0]\n",
    "        \n",
    "        x2 = search_in_mat(mat, couple[1])[0][0]\n",
    "        y2 = search_in_mat(mat, couple[0])[1][0]\n",
    "        \n",
    "        # Case 1: Same Row:\n",
    "        if (x1 == x2):\n",
    "            couple[0] = mat[x1][(y1 + 1) % 5]\n",
    "            couple[1] = mat[x2][(y2 + 1) % 5]\n",
    "        \n",
    "        # Case 2: Same Column:\n",
    "        elif (y1 == y2):\n",
    "            couple[0] = mat[(x1 + 1) % 5][y1]\n",
    "            couple[1] = mat[(x2 + 1) % 5][y2]\n",
    "            \n",
    "        # Case 3: Nothing Same:\n",
    "        else:\n",
    "            couple[0] = mat[x1][y2]\n",
    "            couple[1] = mat[x2][y1]\n",
    "    \n",
    "    return couples"
   ]
  },
  {
   "cell_type": "code",
   "execution_count": 33,
   "metadata": {},
   "outputs": [
    {
     "name": "stdout",
     "output_type": "stream",
     "text": [
      "Enter Plain Text: Hello World!\n",
      "Enter the Key: Enumerated\n"
     ]
    }
   ],
   "source": [
    "P = input(\"Enter Plain Text: \").upper()\n",
    "K = \"\".join(list(set(input(\"Enter the Key: \"))))"
   ]
  },
  {
   "cell_type": "code",
   "execution_count": 34,
   "metadata": {},
   "outputs": [
    {
     "name": "stdout",
     "output_type": "stream",
     "text": [
      "r 0\n",
      "u 1\n",
      "n 2\n",
      "d 3\n",
      "t 4\n",
      "e 5\n",
      "a 6\n",
      "m 7\n",
      "E 8\n"
     ]
    }
   ],
   "source": [
    "mat = generate_key(K)"
   ]
  },
  {
   "cell_type": "code",
   "execution_count": 35,
   "metadata": {},
   "outputs": [
    {
     "data": {
      "text/plain": [
       "[['r', 'u', 'n', 'd', 't'],\n",
       " ['e', 'a', 'm', 'E', 'Z'],\n",
       " ['Y', 'X', 'W', 'V', 'U'],\n",
       " ['T', 'S', 'R', 'Q', 'P'],\n",
       " ['O', 'N', 'M', 'L', 'K']]"
      ]
     },
     "execution_count": 35,
     "metadata": {},
     "output_type": "execute_result"
    }
   ],
   "source": [
    "mat"
   ]
  },
  {
   "cell_type": "code",
   "execution_count": 37,
   "metadata": {},
   "outputs": [],
   "source": [
    "C = check_rules_encrypt(mat)"
   ]
  },
  {
   "cell_type": "code",
   "execution_count": 38,
   "metadata": {},
   "outputs": [
    {
     "data": {
      "text/plain": [
       "[['u', 'u', 'n', 'd', 't', 'e', 'a', 'm', 'E', 'Z'],\n",
       " ['X', 'X', 'W', 'V', 'U', 'T', 'S', 'R', 'Q', 'P'],\n",
       " ['N', 'N', 'M', 'L', 'K']]"
      ]
     },
     "execution_count": 38,
     "metadata": {},
     "output_type": "execute_result"
    }
   ],
   "source": [
    "C"
   ]
  },
  {
   "cell_type": "code",
   "execution_count": null,
   "metadata": {},
   "outputs": [],
   "source": []
  }
 ],
 "metadata": {
  "kernelspec": {
   "display_name": "Python 3",
   "language": "python",
   "name": "python3"
  },
  "language_info": {
   "codemirror_mode": {
    "name": "ipython",
    "version": 3
   },
   "file_extension": ".py",
   "mimetype": "text/x-python",
   "name": "python",
   "nbconvert_exporter": "python",
   "pygments_lexer": "ipython3",
   "version": "3.6.6"
  }
 },
 "nbformat": 4,
 "nbformat_minor": 2
}
