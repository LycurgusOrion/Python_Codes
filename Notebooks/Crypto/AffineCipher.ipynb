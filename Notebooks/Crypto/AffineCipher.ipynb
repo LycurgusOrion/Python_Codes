{
 "cells": [
  {
   "cell_type": "markdown",
   "metadata": {},
   "source": [
    "#### Aaditya Verma\n",
    "#### 16CSU001\n",
    "#### 8th Feb, 2019"
   ]
  },
  {
   "cell_type": "markdown",
   "metadata": {},
   "source": [
    "# Affine Cipher"
   ]
  },
  {
   "cell_type": "code",
   "execution_count": 1,
   "metadata": {},
   "outputs": [],
   "source": [
    "import math"
   ]
  },
  {
   "cell_type": "markdown",
   "metadata": {},
   "source": [
    "##### _User Input_"
   ]
  },
  {
   "cell_type": "code",
   "execution_count": 10,
   "metadata": {},
   "outputs": [
    {
     "name": "stdout",
     "output_type": "stream",
     "text": [
      "Enter Plain Text: hello\n",
      "Enter Multiplicative KEY: 6\n",
      "Enter Additive KEY: 2\n"
     ]
    }
   ],
   "source": [
    "P = input(\"Enter Plain Text: \").upper()\n",
    "M = int(input(\"Enter Multiplicative KEY: \"))\n",
    "A = int(input(\"Enter Additive KEY: \"))"
   ]
  },
  {
   "cell_type": "markdown",
   "metadata": {},
   "source": [
    "##### _Check if Keys are Valid_"
   ]
  },
  {
   "cell_type": "code",
   "execution_count": 11,
   "metadata": {},
   "outputs": [
    {
     "name": "stdout",
     "output_type": "stream",
     "text": [
      "Invalid Key!\n",
      "Enter VALID Multiplicative KEY: 8\n",
      "Invalid Key!\n",
      "Enter VALID Multiplicative KEY: 7\n",
      "Valid Keys!\n"
     ]
    }
   ],
   "source": [
    "while math.gcd(26, M) is not 1:\n",
    "    print(\"Invalid Key!\")\n",
    "    M = int(input(\"Enter VALID Multiplicative KEY: \"))\n",
    "else:\n",
    "    print(\"Valid Keys!\")"
   ]
  },
  {
   "cell_type": "markdown",
   "metadata": {},
   "source": [
    "##### _Encryption_"
   ]
  },
  {
   "cell_type": "code",
   "execution_count": 12,
   "metadata": {},
   "outputs": [
    {
     "data": {
      "text/plain": [
       "'ZEBBW'"
      ]
     },
     "execution_count": 12,
     "metadata": {},
     "output_type": "execute_result"
    }
   ],
   "source": [
    "C = \"\".join([chr((((ord(chr((((ord(x)*M)-65)%26)+65))+A)-65)%26)+65) if (ord(x) is not ord(\" \")) else x for x in P]).upper()\n",
    "C"
   ]
  },
  {
   "cell_type": "markdown",
   "metadata": {},
   "source": [
    "##### _Decryption_"
   ]
  },
  {
   "cell_type": "code",
   "execution_count": 13,
   "metadata": {},
   "outputs": [
    {
     "data": {
      "text/plain": [
       "'HELLO'"
      ]
     },
     "execution_count": 13,
     "metadata": {},
     "output_type": "execute_result"
    }
   ],
   "source": [
    "P = \"\".join([chr((((ord(chr((((ord(x)-A)-65)%26)+65))*find_MI(M, 26))-65)%26)+65) if (ord(x) is not ord(\" \")) else x for x in C]).upper()\n",
    "P"
   ]
  },
  {
   "cell_type": "markdown",
   "metadata": {},
   "source": [
    "##### _Function to find Multiplicative Inverse_"
   ]
  },
  {
   "cell_type": "code",
   "execution_count": 14,
   "metadata": {},
   "outputs": [],
   "source": [
    "def find_MI(x, n):\n",
    "    r1, r2 = n, x\n",
    "    t1, t2 = 0, 1\n",
    "    q, r, t = 0, 0, 0\n",
    "    while (r2 > 0):\n",
    "        q = r1 // r2\n",
    "        r = r1 - (q * r2)\n",
    "        t = t1 - (q * t2)\n",
    "        r1, r2, t1, t2 = r2, r, t2, t\n",
    "    \n",
    "    if r1 is 1:\n",
    "        mi = t1 if (t1 > 0) else (t1 + n)\n",
    "        return mi"
   ]
  }
 ],
 "metadata": {
  "kernelspec": {
   "display_name": "Python 3",
   "language": "python",
   "name": "python3"
  },
  "language_info": {
   "codemirror_mode": {
    "name": "ipython",
    "version": 3
   },
   "file_extension": ".py",
   "mimetype": "text/x-python",
   "name": "python",
   "nbconvert_exporter": "python",
   "pygments_lexer": "ipython3",
   "version": "3.6.6"
  }
 },
 "nbformat": 4,
 "nbformat_minor": 2
}
