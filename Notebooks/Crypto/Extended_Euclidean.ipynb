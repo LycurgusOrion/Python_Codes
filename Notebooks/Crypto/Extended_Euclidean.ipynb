{
 "cells": [
  {
   "cell_type": "markdown",
   "metadata": {},
   "source": [
    "### Aaditya Verma\n",
    "### 16CSU001\n",
    "#### 18th Jan, 2019"
   ]
  },
  {
   "cell_type": "markdown",
   "metadata": {},
   "source": [
    "# **To find GCD of 'a' and 'b' using Extended Euclidean Algorithm**"
   ]
  },
  {
   "cell_type": "code",
   "execution_count": 3,
   "metadata": {},
   "outputs": [],
   "source": [
    "import math"
   ]
  },
  {
   "cell_type": "code",
   "execution_count": 4,
   "metadata": {},
   "outputs": [
    {
     "name": "stdout",
     "output_type": "stream",
     "text": [
      "Enter a: 25\n",
      "Enter b: 185\n"
     ]
    }
   ],
   "source": [
    "a = int(input(\"Enter a: \"))\n",
    "b = int(input(\"Enter b: \"))"
   ]
  },
  {
   "cell_type": "code",
   "execution_count": 5,
   "metadata": {},
   "outputs": [
    {
     "name": "stdout",
     "output_type": "stream",
     "text": [
      "GCD =  5\n"
     ]
    }
   ],
   "source": [
    "print(\"GCD = \", math.gcd(a, b))"
   ]
  },
  {
   "cell_type": "code",
   "execution_count": 11,
   "metadata": {},
   "outputs": [],
   "source": [
    "r1 = a\n",
    "r2 = b\n",
    "\n",
    "r = a"
   ]
  },
  {
   "cell_type": "code",
   "execution_count": 12,
   "metadata": {},
   "outputs": [],
   "source": [
    "s1 = 1\n",
    "s2 = 0"
   ]
  },
  {
   "cell_type": "code",
   "execution_count": 13,
   "metadata": {},
   "outputs": [],
   "source": [
    "t1 = 0\n",
    "t2 = 1"
   ]
  },
  {
   "cell_type": "code",
   "execution_count": 14,
   "metadata": {},
   "outputs": [
    {
     "name": "stdout",
     "output_type": "stream",
     "text": [
      "q\tr1\tr2\ts1\ts2\tt1\tt2\n",
      "--------------------------------------------------\n",
      "0\t185\t25\t0\t1\t1\t0\n",
      "7\t25\t10\t1\t-7\t0\t1\n",
      "2\t10\t5\t-7\t15\t1\t-2\n",
      "2\t5\t0\t15\t-37\t-2\t5\n"
     ]
    }
   ],
   "source": [
    "print(\"q\", \"r1\", \"r2\", \"s1\", \"s2\", \"t1\", \"t2\", sep=\"\\t\")\n",
    "print(\"-\"*50)\n",
    "while(r2 > 0):\n",
    "    q = int(r1 / r2)\n",
    "    r = r1 - (q*r2)\n",
    "    s = s1 - (q*s2)\n",
    "    t = t1 - (q*t2)\n",
    "    r1, r2, s1, s2, t1, t2 = r2, r, s2, s, t2, t\n",
    "    print(q, r1, r2, s1, s2, t1, t2, sep=\"\\t\")"
   ]
  },
  {
   "cell_type": "code",
   "execution_count": 10,
   "metadata": {},
   "outputs": [
    {
     "name": "stdout",
     "output_type": "stream",
     "text": [
      "GCD Using Extended Euclidean = 5 = 15 x 25 + -2 x 185 = 5\n"
     ]
    }
   ],
   "source": [
    "print(\"GCD Using Extended Euclidean = \" + str(r1) + \" = \" + str(s1) + \" x \" + str(a) + \" + \" + str(t1) + \" x \" + \n",
    "      str(b) + \" = \" + str((s1 * a) + (t1 * b)))"
   ]
  }
 ],
 "metadata": {
  "kernelspec": {
   "display_name": "Python 3",
   "language": "python",
   "name": "python3"
  },
  "language_info": {
   "codemirror_mode": {
    "name": "ipython",
    "version": 3
   },
   "file_extension": ".py",
   "mimetype": "text/x-python",
   "name": "python",
   "nbconvert_exporter": "python",
   "pygments_lexer": "ipython3",
   "version": "3.6.6"
  }
 },
 "nbformat": 4,
 "nbformat_minor": 2
}
