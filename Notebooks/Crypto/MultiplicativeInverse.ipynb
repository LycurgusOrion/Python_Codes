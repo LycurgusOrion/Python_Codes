{
 "cells": [
  {
   "cell_type": "markdown",
   "metadata": {},
   "source": [
    "### Aaditya Verma\n",
    "### 16CSU001\n",
    "#### 25th Jan, 2019"
   ]
  },
  {
   "cell_type": "markdown",
   "metadata": {},
   "source": [
    "# **To find Multiplicative Inverse of 'b' in 'Zn'**"
   ]
  },
  {
   "cell_type": "code",
   "execution_count": 2,
   "metadata": {},
   "outputs": [
    {
     "name": "stdout",
     "output_type": "stream",
     "text": [
      "Enter n in Zn: 26\n"
     ]
    }
   ],
   "source": [
    "n = int(input(\"Enter n in Zn: \"))"
   ]
  },
  {
   "cell_type": "code",
   "execution_count": 3,
   "metadata": {},
   "outputs": [
    {
     "name": "stdout",
     "output_type": "stream",
     "text": [
      "Zn = [0, 1, 2, 3, 4, 5, 6, 7, 8, 9, 10, 11, 12, 13, 14, 15, 16, 17, 18, 19, 20, 21, 22, 23, 24, 25]\n"
     ]
    }
   ],
   "source": [
    "zn = [i for i in range(n)]\n",
    "zn_inv = []\n",
    "print(\"Zn =\", zn)"
   ]
  },
  {
   "cell_type": "code",
   "execution_count": 4,
   "metadata": {},
   "outputs": [],
   "source": [
    "b = zn"
   ]
  },
  {
   "cell_type": "code",
   "execution_count": 5,
   "metadata": {},
   "outputs": [],
   "source": [
    "for i in b:\n",
    "    r1, r2 = n, i\n",
    "    t1, t2 = 0, 1\n",
    "#     print(\"q\", \"|\", \"r1\", \"|\", \"r2\", \"|\", \"r\", \"|\", \"t1\", \"|\", \"t2\", \"|\", \"t\", sep=\"\\t\")\n",
    "#     print(\"\".join([\"-\" for i in range(100)]))\n",
    "    q, r, t = 0, 0, 0\n",
    "    while (r2 > 0):\n",
    "        q = r1 // r2\n",
    "        r = r1 - (q * r2)\n",
    "        t = t1 - (q * t2)\n",
    "#         print(q, \"|\", r1, \"|\", r2, \"|\", r, \"|\", t1, \"|\", t2, \"|\", t, sep=\"\\t\")\n",
    "        r1, r2, t1, t2 = r2, r, t2, t\n",
    "#     print(q, \"|\", r1, \"|\", r2, \"|\", r, \"|\", t1, \"|\", t2, \"|\", t, sep=\"\\t\")\n",
    "    if r1 is 1:\n",
    "#         print(\"No multiplicative inverse exists\")\n",
    "        mi = t1 if (t1 > 0) else (t1 + n)\n",
    "#         print(\"The multiplicative inverse of {} = {}\".format(i, mi))\n",
    "#         print(\"Verification:\", \"{} x {} mod {}\".format(i, mi, n), \"=\", (i * mi) % n)\n",
    "        zn_inv.append(mi)"
   ]
  },
  {
   "cell_type": "code",
   "execution_count": 6,
   "metadata": {},
   "outputs": [
    {
     "data": {
      "text/plain": [
       "[1, 9, 21, 15, 3, 19, 7, 23, 11, 5, 17, 25]"
      ]
     },
     "execution_count": 6,
     "metadata": {},
     "output_type": "execute_result"
    }
   ],
   "source": [
    "zn_inv"
   ]
  },
  {
   "cell_type": "code",
   "execution_count": 17,
   "metadata": {},
   "outputs": [
    {
     "data": {
      "text/plain": [
       "12"
      ]
     },
     "execution_count": 17,
     "metadata": {},
     "output_type": "execute_result"
    }
   ],
   "source": [
    "len(zn_inv)"
   ]
  }
 ],
 "metadata": {
  "kernelspec": {
   "display_name": "Python 3",
   "language": "python",
   "name": "python3"
  },
  "language_info": {
   "codemirror_mode": {
    "name": "ipython",
    "version": 3
   },
   "file_extension": ".py",
   "mimetype": "text/x-python",
   "name": "python",
   "nbconvert_exporter": "python",
   "pygments_lexer": "ipython3",
   "version": "3.6.6"
  }
 },
 "nbformat": 4,
 "nbformat_minor": 2
}
