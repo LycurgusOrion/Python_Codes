{
 "cells": [
  {
   "cell_type": "code",
   "execution_count": 1,
   "metadata": {},
   "outputs": [],
   "source": [
    "class Vehicle:\n",
    "    \n",
    "    def __init__(self, model, rnum, speed, fuel, eco):\n",
    "        self.__model__ = model\n",
    "        self.__reg_num__ = rnum\n",
    "        self.__speed__ = speed\n",
    "        self.__fuel__ = fuel\n",
    "        self.__eco__ = eco\n",
    "    \n",
    "    \n",
    "    def getModel(self):\n",
    "        return self.__model__\n",
    "    \n",
    "    \n",
    "    def setModel(self, model):\n",
    "        self.__model__ = model\n",
    "    \n",
    "    \n",
    "    def getRnum(self):\n",
    "        return self.__reg_num__\n",
    "    \n",
    "    \n",
    "    def setRnum(self, rnum):\n",
    "        self.__reg_num__ = rnum\n",
    "    \n",
    "    \n",
    "    def getSpeed(self):\n",
    "        return self.__speed__\n",
    "    \n",
    "    \n",
    "    def setSpeed(self, speed):\n",
    "        self.__speed__ = speed\n",
    "    \n",
    "    \n",
    "    def getFuel(self):\n",
    "        return self.__fuel__\n",
    "    \n",
    "    \n",
    "    def setFuel(self, fuel):\n",
    "        self.__fuel__ = fuel\n",
    "    \n",
    "    \n",
    "    def getEco(self):\n",
    "        return self.__eco__\n",
    "    \n",
    "    \n",
    "    def setEco(self, eco):\n",
    "        self.__eco__ = eco\n",
    "    \n",
    "    \n",
    "    def fuelNeeded(self, dis):\n",
    "        return self.__eco__ * dis\n",
    "    \n",
    "    \n",
    "    def distanceCovered(self, time):\n",
    "        return self.__speed__ * time\n",
    "    \n",
    "    \n",
    "    def display(self):\n",
    "        print(\"======================\")\n",
    "        print(\"======================\")\n",
    "        print(\"Vehicle Info: \")\n",
    "        print(\"======================\")\n",
    "        print(\"======================\")\n",
    "        print(\"Model:\", self.__model__)\n",
    "        print(\"======================\")\n",
    "        print(\"Registration Number:\", self.__reg_num__)\n",
    "        print(\"======================\")\n",
    "        print(\"Speed:\", self.__speed__)\n",
    "        print(\"======================\")\n",
    "        print(\"Fuel Capacity:\", self.__fuel__)\n",
    "        print(\"======================\")\n",
    "        print(\"Fuel Consumption:\", self.__eco__)\n",
    "        print(\"======================\")\n",
    "\n"
   ]
  },
  {
   "cell_type": "code",
   "execution_count": 2,
   "metadata": {},
   "outputs": [],
   "source": [
    "class Truck(Vehicle):\n",
    "    \n",
    "    def __init__(self, model, rnum, speed, fuel, eco, cargo):\n",
    "        super().__init__(model, rnum, speed, fuel, eco)\n",
    "        self.__cargo__ = cargo\n",
    "    \n",
    "    \n",
    "    def getCargo(self):\n",
    "        return self.__cargo__\n",
    "    \n",
    "    \n",
    "    def setCargo(self, cargo):\n",
    "        self.__cargo__ = cargo\n",
    "    \n",
    "    \n",
    "    def display(self):\n",
    "        super().display(self)\n",
    "        print(\"Cargo Hold:\", self.__cargo__)\n",
    "        print(\"======================\")\n",
    "\n"
   ]
  },
  {
   "cell_type": "code",
   "execution_count": 3,
   "metadata": {},
   "outputs": [],
   "source": [
    "class Bus(Vehicle):\n",
    "    \n",
    "    def __init__(self, model, rnum, speed, fuel, eco, num_pass):\n",
    "        super().__init__(model, rnum, speed, fuel, eco)\n",
    "        self.__num_pass__ = num_pass\n",
    "    \n",
    "    \n",
    "    def getNumPass(self):\n",
    "        return self.__num_pass__\n",
    "    \n",
    "    \n",
    "    def setNumPass(self, num_pass):\n",
    "        self.__num_pass__ = num_pass\n",
    "    \n",
    "    \n",
    "    def display(self):\n",
    "        super().display(self)\n",
    "        print(\"Number of Passengers:\", self.__num_pass__)\n",
    "        print(\"======================\")\n",
    "        \n"
   ]
  },
  {
   "cell_type": "code",
   "execution_count": 8,
   "metadata": {},
   "outputs": [
    {
     "name": "stdout",
     "output_type": "stream",
     "text": [
      "Enter Model No.: 8888\n",
      "Enter Registration No.: 83584\n",
      "Enter Speed: 20\n",
      "Enter Fuel Capacity: 100\n",
      "Enter Fuel Economy: 5\n",
      "Enter Cargo Capacity: 200\n",
      "Enter Model No.: 9999\n",
      "Enter Registration No.: 23885\n",
      "Enter Speed: 100\n",
      "Enter Fuel Capacity: 500\n",
      "Enter Fuel Economy: 2\n",
      "Enter No. of Passangers: 30\n"
     ]
    }
   ],
   "source": [
    "class Transport:\n",
    "    \n",
    "    truck = Truck(int(input(\"Enter Model No.: \")), int(input(\"Enter Registration No.: \")), int(input(\"Enter Speed: \")),\\\n",
    "                      int(input(\"Enter Fuel Capacity: \")), int(input(\"Enter Fuel Economy: \")),\\\n",
    "                      int(input(\"Enter Cargo Capacity: \")))\n",
    "    \n",
    "    bus = Bus(int(input(\"Enter Model No.: \")), int(input(\"Enter Registration No.: \")), int(input(\"Enter Speed: \")),\\\n",
    "                      int(input(\"Enter Fuel Capacity: \")), int(input(\"Enter Fuel Economy: \")),\\\n",
    "                      int(input(\"Enter No. of Passangers: \")))\n",
    "    \n",
    "    def calculateFuelNeeded():\n",
    "        distance = int(input(\"Enter Distance: \"))\n",
    "        print(\"Truck Needs:\", Transport.truck.fuelNeeded(distance), \" fuel\")\n",
    "        print(\"Bus Needs:\", Transport.bus.fuelNeeded(distance), \" fuel\")"
   ]
  },
  {
   "cell_type": "code",
   "execution_count": 9,
   "metadata": {},
   "outputs": [],
   "source": [
    "def Main():\n",
    "    Transport.calculateFuelNeeded()"
   ]
  },
  {
   "cell_type": "code",
   "execution_count": 10,
   "metadata": {},
   "outputs": [
    {
     "name": "stdout",
     "output_type": "stream",
     "text": [
      "Enter Distance: 175\n",
      "Truck Needs: 875  fuel\n",
      "Bus Needs: 350  fuel\n"
     ]
    }
   ],
   "source": [
    "Main()"
   ]
  }
 ],
 "metadata": {
  "kernelspec": {
   "display_name": "Python 3",
   "language": "python",
   "name": "python3"
  },
  "language_info": {
   "codemirror_mode": {
    "name": "ipython",
    "version": 3
   },
   "file_extension": ".py",
   "mimetype": "text/x-python",
   "name": "python",
   "nbconvert_exporter": "python",
   "pygments_lexer": "ipython3",
   "version": "3.6.6"
  }
 },
 "nbformat": 4,
 "nbformat_minor": 2
}
