{
 "cells": [
  {
   "cell_type": "code",
   "execution_count": 2,
   "metadata": {},
   "outputs": [
    {
     "name": "stdout",
     "output_type": "stream",
     "text": [
      "BTech\n",
      "BTech\n",
      "MBA\n",
      "both are selected\n"
     ]
    }
   ],
   "source": [
    "from tkinter import *\n",
    "import tkinter\n",
    "\n",
    "root=Tk()\n",
    "v1=IntVar()\n",
    "v2=IntVar()\n",
    "\n",
    "def on_click():\n",
    "    if v1.get()==1:\n",
    "        print(\"BTech\")\n",
    "    if v2.get()==1:\n",
    "        print(\"MBA\")\n",
    "    if v1.get()==1 and v2.get()==1:\n",
    "        print(\"both are selected\")\n",
    "    \n",
    "        \n",
    "c1=Checkbutton(root,text=\"BTech\",variable=v1,height=10, width=20,bg=\"red\",command=on_click)\n",
    "c2=Checkbutton(root,text=\"MBA\",variable=v2, height=5, width=20,bg=\"yellow\",command=on_click)\n",
    "\n",
    "c1.pack()\n",
    "c2.pack()\n",
    "root.mainloop()\n",
    "\n"
   ]
  },
  {
   "cell_type": "code",
   "execution_count": 3,
   "metadata": {},
   "outputs": [],
   "source": [
    "from tkinter import *\n",
    "root = Tk()\n",
    "\n",
    "f1=Frame(root,bd=5,relief='raise')\n",
    "f1.pack(side=LEFT)\n",
    "f2=Frame(root,bd=5, relief='raise')\n",
    "f2.pack(side=RIGHT)\n",
    "f3=Frame(root,bd=5,relief='raise')\n",
    "f3.pack(side=BOTTOM)\n",
    "v=IntVar()\n",
    "var1=IntVar()\n",
    "Radiobutton(f1, text=\"male\", variable=var1,value=1).pack(anchor=W)\n",
    "Radiobutton(f1, text=\"female\", variable=var1,value=2).pack(anchor=W)\n",
    "\n",
    "Radiobutton(f2,text=\"Python\",variable=v,value=1).pack(anchor=W)\n",
    "Radiobutton(f2,text=\"PHP\",variable=v,value=2).pack(anchor=W)\n",
    "Radiobutton(f2,text=\"Java\",variable=v,value=3).pack(anchor=W)\n",
    "Radiobutton(f2,text=\"C++\",variable=v,value=4).pack(anchor=W)\n",
    "\n",
    "Button(f3, text='Quit').pack(side=BOTTOM)\n",
    "Button(f3, text='Show').pack(side=BOTTOM)\n",
    "\n",
    "mainloop()"
   ]
  },
  {
   "cell_type": "code",
   "execution_count": 4,
   "metadata": {},
   "outputs": [],
   "source": [
    "from tkinter import *\n",
    "\n",
    "root=Tk()\n",
    "\n",
    "Label(root,text=\"Choose a Programming Language\").grid(row=1,column=1)\n",
    "\n",
    "v=StringVar()\n",
    "\n",
    "v.set('Select Langauge')\n",
    "languages=['Python','PHP','Java']\n",
    "\n",
    "menu=OptionMenu(root,v,*languages)\n",
    "menu.grid(row=2,column=1)\n",
    "\n",
    "t1=Text(root,height=5,width=10)\n",
    "t1.grid(row=3,column=1)\n",
    "\n",
    "def change_dropdown(*args):\n",
    "    t1.delete(1.0,END)\n",
    "    t1.insert(INSERT,v.get())\n",
    "   \n",
    "v.trace('w', change_dropdown)\n",
    "root.mainloop()"
   ]
  },
  {
   "cell_type": "code",
   "execution_count": 5,
   "metadata": {},
   "outputs": [],
   "source": [
    "from tkinter import *\n",
    "from tkinter import messagebox\n",
    "root = Tk()\n",
    "\n",
    "menubar=Menu(root)\n",
    "\n",
    "def hello():\n",
    "    messagebox.showwarning(\"Menu Application\",\"Add some information pls!!!\")\n",
    "    \n",
    "menubar.add_command(label=\"Hello\",command=hello)\n",
    "menubar.add_command(label=\"Quit\",command=root.quit)\n",
    "\n",
    "root.config(menu=menubar)\n",
    "root.mainloop()"
   ]
  },
  {
   "cell_type": "code",
   "execution_count": 1,
   "metadata": {},
   "outputs": [],
   "source": [
    "from tkinter import *\n",
    "from tkinter import messagebox\n",
    "\n",
    "root = Tk()\n",
    "\n",
    "menubar=Menu(root)\n",
    "\n",
    "def hello():\n",
    "   messagebox.showerror(\"Menu bar\",\"Error\")\n",
    "   \n",
    "de_menu=Menu(menubar,tearoff=0)\n",
    "p_menu = Menu(de_menu, tearoff=0)\n",
    "\n",
    "\n",
    "menubar.add_cascade(label=\"Dept. Elective\",menu=de_menu)\n",
    "de_menu.add_cascade(label=\"Python\", menu=p_menu)\n",
    "p_menu.add_command(label=\"XYZ\", command=hello)\n",
    "# de_menu.add_command(label=\"Python\",command=hello)\n",
    "de_menu.add_command(label=\"PHP\",command=hello)\n",
    "de_menu.add_command(label=\"PHP\",command=hello)\n",
    "\n",
    "de_menu.add_separator()\n",
    "\n",
    "de_menu.add_command(label=\"Exit\",command=root.quit)\n",
    "\n",
    "o_menu=Menu(menubar,tearoff=0)\n",
    "menubar.add_cascade(label='Open Elective',menu=o_menu)\n",
    "o_menu.add_command(label=\"English\",command=hello)\n",
    "\n",
    "root.config(menu=menubar)\n",
    "\n",
    "root.mainloop()"
   ]
  },
  {
   "cell_type": "code",
   "execution_count": 2,
   "metadata": {},
   "outputs": [
    {
     "name": "stdout",
     "output_type": "stream",
     "text": [
      "clicked at 28 10\n",
      "clicked at 57 48\n",
      "clicked at 46 21\n",
      "clicked at 46 21\n",
      "clicked at 46 21\n",
      "clicked at 39 8\n",
      "clicked at 39 8\n",
      "clicked at 39 8\n",
      "clicked at 39 8\n"
     ]
    }
   ],
   "source": [
    "from tkinter import *\n",
    "\n",
    "root = Tk()\n",
    "\n",
    "def callback(event):\n",
    "    print(\"clicked at\", event.x, event.y)\n",
    "\n",
    "frame = Frame(root, width=100, height=100, relief='raise')\n",
    "\n",
    "e1=Entry(root)\n",
    "e1.bind(\"<Button-1>\",callback)\n",
    "e1.pack()\n",
    "\n",
    "frame.bind(\"<Button-1>\", callback)\n",
    "frame.pack()\n",
    "\n",
    "root.mainloop()\n"
   ]
  },
  {
   "cell_type": "code",
   "execution_count": 3,
   "metadata": {},
   "outputs": [
    {
     "name": "stdout",
     "output_type": "stream",
     "text": [
      "clicked at 43 37\n",
      "clicked at 64 59\n",
      "clicked at 13 32\n",
      "pressed g\n",
      "pressed g\n",
      "pressed y\n",
      "pressed t\n",
      "pressed e\n",
      "pressed 7\n",
      "pressed \n",
      "pressed \n",
      "pressed \n",
      "pressed V\n"
     ]
    }
   ],
   "source": [
    "from tkinter import *\n",
    "\n",
    "root = Tk()\n",
    "\n",
    "def key(event):\n",
    "    print(\"pressed\", event.char)\n",
    "\n",
    "def callback(event):\n",
    "    frame.focus_set()\n",
    "    print(\"clicked at\", event.x, event.y)\n",
    "\n",
    "frame = Frame(root, width=100, height=100)\n",
    "frame.bind(\"<Key>\", key)\n",
    "frame.bind(\"<Button-1>\", callback)\n",
    "frame.pack()\n",
    "\n",
    "root.mainloop()"
   ]
  },
  {
   "cell_type": "code",
   "execution_count": null,
   "metadata": {},
   "outputs": [],
   "source": []
  }
 ],
 "metadata": {
  "kernelspec": {
   "display_name": "Python 3",
   "language": "python",
   "name": "python3"
  },
  "language_info": {
   "codemirror_mode": {
    "name": "ipython",
    "version": 3
   },
   "file_extension": ".py",
   "mimetype": "text/x-python",
   "name": "python",
   "nbconvert_exporter": "python",
   "pygments_lexer": "ipython3",
   "version": "3.6.6"
  }
 },
 "nbformat": 4,
 "nbformat_minor": 2
}
