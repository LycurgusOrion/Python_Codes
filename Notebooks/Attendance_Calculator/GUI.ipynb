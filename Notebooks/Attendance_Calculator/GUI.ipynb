{
 "cells": [
  {
   "cell_type": "code",
   "execution_count": 1,
   "metadata": {},
   "outputs": [],
   "source": [
    "import tkinter as tk\n",
    "from PIL import ImageTk, Image\n",
    "import os"
   ]
  },
  {
   "cell_type": "code",
   "execution_count": 8,
   "metadata": {},
   "outputs": [],
   "source": [
    "root = tk.Toplevel()\n",
    "\n",
    "root.geometry(\"1336x640\")\n",
    "\n",
    "m = tk.PanedWindow(root)\n",
    "m.pack(fill=tk.BOTH, expand=1)\n",
    "\n",
    "img_attendance = ImageTk.PhotoImage(Image.open(\"MyAttendance.png\"))\n",
    "panel_one = tk.Label(m, image = img_attendance)\n",
    "\n",
    "img_bunks = ImageTk.PhotoImage(Image.open(\"MyBunks.png\"))\n",
    "panel_two = tk.Label(m, image = img_bunks)\n",
    "\n",
    "rf = tk.Button(root, text=\"Refresh\", command=refresh)\n",
    "\n",
    "m.add(panel_one)\n",
    "m.add(panel_two)\n",
    "\n",
    "root.mainloop()"
   ]
  },
  {
   "cell_type": "code",
   "execution_count": null,
   "metadata": {},
   "outputs": [],
   "source": [
    "def refresh():\n",
    "    "
   ]
  }
 ],
 "metadata": {
  "kernelspec": {
   "display_name": "Python 3",
   "language": "python",
   "name": "python3"
  },
  "language_info": {
   "codemirror_mode": {
    "name": "ipython",
    "version": 3
   },
   "file_extension": ".py",
   "mimetype": "text/x-python",
   "name": "python",
   "nbconvert_exporter": "python",
   "pygments_lexer": "ipython3",
   "version": "3.6.6"
  }
 },
 "nbformat": 4,
 "nbformat_minor": 2
}
