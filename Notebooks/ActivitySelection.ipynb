{
 "cells": [
  {
   "cell_type": "code",
   "execution_count": 60,
   "metadata": {},
   "outputs": [],
   "source": [
    "# Aaditya Verma\n",
    "# 16CSU001\n",
    "# Activity Selection"
   ]
  },
  {
   "cell_type": "code",
   "execution_count": 61,
   "metadata": {},
   "outputs": [],
   "source": [
    "start = [1, 3, 0, 5, 8, 5]\n",
    "finish = [2, 4, 6, 7, 9, 9]"
   ]
  },
  {
   "cell_type": "code",
   "execution_count": 62,
   "metadata": {},
   "outputs": [],
   "source": [
    "selected_start = []\n",
    "selected_finish = []"
   ]
  },
  {
   "cell_type": "code",
   "execution_count": 63,
   "metadata": {},
   "outputs": [],
   "source": [
    "i = 0\n",
    "j = i + 1"
   ]
  },
  {
   "cell_type": "code",
   "execution_count": 64,
   "metadata": {},
   "outputs": [],
   "source": [
    "length = len(start) - 1"
   ]
  },
  {
   "cell_type": "code",
   "execution_count": 65,
   "metadata": {},
   "outputs": [],
   "source": [
    "selected_start.append(start[0])\n",
    "selected_finish.append(finish[0])"
   ]
  },
  {
   "cell_type": "code",
   "execution_count": 66,
   "metadata": {},
   "outputs": [],
   "source": [
    "try:\n",
    "    while i < length:\n",
    "        if start[j] >= finish[i]:\n",
    "            selected_start.append(start[j])\n",
    "            selected_finish.append(finish[j])\n",
    "            i = j\n",
    "            j = i + 1\n",
    "        else:\n",
    "            j += 1\n",
    "\n",
    "    selected_set.pop(j)\n",
    "except:\n",
    "    pass"
   ]
  },
  {
   "cell_type": "code",
   "execution_count": 68,
   "metadata": {},
   "outputs": [
    {
     "name": "stdout",
     "output_type": "stream",
     "text": [
      "Start = [1, 3, 5, 8]\n",
      "Finish = [2, 4, 7, 9]\n"
     ]
    }
   ],
   "source": [
    "print(\"Start =\", selected_start)\n",
    "print(\"Finish =\", selected_finish)"
   ]
  },
  {
   "cell_type": "code",
   "execution_count": 69,
   "metadata": {},
   "outputs": [],
   "source": [
    "index = [start.index(i) for i in selected_start]"
   ]
  },
  {
   "cell_type": "code",
   "execution_count": 71,
   "metadata": {},
   "outputs": [
    {
     "name": "stdout",
     "output_type": "stream",
     "text": [
      "Activities Executed = [0, 1, 3, 4]\n"
     ]
    }
   ],
   "source": [
    "print(\"Activities Executed =\", index)"
   ]
  }
 ],
 "metadata": {
  "kernelspec": {
   "display_name": "Python 3",
   "language": "python",
   "name": "python3"
  },
  "language_info": {
   "codemirror_mode": {
    "name": "ipython",
    "version": 3
   },
   "file_extension": ".py",
   "mimetype": "text/x-python",
   "name": "python",
   "nbconvert_exporter": "python",
   "pygments_lexer": "ipython3",
   "version": "3.6.6"
  }
 },
 "nbformat": 4,
 "nbformat_minor": 2
}
