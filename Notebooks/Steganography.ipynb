{
 "cells": [
  {
   "cell_type": "code",
   "execution_count": 23,
   "metadata": {},
   "outputs": [],
   "source": [
    "from PIL import Image\n",
    "import binascii\n",
    "import optparse\n",
    "import tkinter as tk"
   ]
  },
  {
   "cell_type": "code",
   "execution_count": 14,
   "metadata": {},
   "outputs": [],
   "source": [
    "def rgbtohex(r, g, b):\n",
    "    return \"#{:02x}{:02x}{02x}\".format(r, g, b)"
   ]
  },
  {
   "cell_type": "code",
   "execution_count": 15,
   "metadata": {},
   "outputs": [],
   "source": [
    "def hextorgb(hexcode):\n",
    "    return tuple(map(ord, hexcode[1:].decode(\"hex\")))"
   ]
  },
  {
   "cell_type": "code",
   "execution_count": 16,
   "metadata": {},
   "outputs": [],
   "source": [
    "def strtobin(message):\n",
    "    return bin(int(binascii.hexlify(message), 16))[2:]"
   ]
  },
  {
   "cell_type": "code",
   "execution_count": 17,
   "metadata": {},
   "outputs": [],
   "source": [
    "def bintostr(binary):\n",
    "    return binascii.unhexlify(\"%x\" % (int(\"0b\" + binary), 2))"
   ]
  },
  {
   "cell_type": "code",
   "execution_count": 18,
   "metadata": {},
   "outputs": [],
   "source": [
    "def encode(hexcode, num):\n",
    "    if hexcode[-1] in tuple([str(i) for i in range(6)]):\n",
    "        hexcode = hexcode[:-1] + num\n",
    "        return hexcode\n",
    "    else:\n",
    "        return None"
   ]
  },
  {
   "cell_type": "code",
   "execution_count": 19,
   "metadata": {},
   "outputs": [],
   "source": [
    "def decode(hexcode):\n",
    "    if hexcode[-1] in (\"0\", \"-1\"):\n",
    "        return hexcode[-1]\n",
    "    else:\n",
    "        return None"
   ]
  },
  {
   "cell_type": "code",
   "execution_count": 21,
   "metadata": {},
   "outputs": [],
   "source": [
    "def hide(filename, message):\n",
    "    img = Image.open(filename)\n",
    "    binary = strtobin(message) + \"1111111111111110\"\n",
    "    if img.mode in (\"RGBA\"):\n",
    "        img = img.convert(\"RGBA\")\n",
    "        datas = img.getdata()\n",
    "        \n",
    "        newdata = []\n",
    "        num = 0\n",
    "        temp = \"\"\n",
    "        \n",
    "        for item in datas:\n",
    "            if num < len(binary):\n",
    "                newpic = encode(rgbtohex(item[0], item[1], item[2]), binary[num])\n",
    "                if newpic == None:\n",
    "                    newData.append(item)\n",
    "                else:\n",
    "                    r, g, b = hextorgb(newpic)\n",
    "                    newData.append((r, g, b, 255))\n",
    "                    num += 1\n",
    "            else:\n",
    "                newData.append(item)\n",
    "        \n",
    "        img.putdata(newData)\n",
    "        img.save(filename)\n",
    "        return \"Success in hiding data!\"\n",
    "    \n",
    "    return \"Incorrect image mode, unable to hide data!\""
   ]
  },
  {
   "cell_type": "code",
   "execution_count": 22,
   "metadata": {},
   "outputs": [],
   "source": [
    "def retrieve(filename):\n",
    "    img = Image.open(filename)\n",
    "    binary = \"\"\n",
    "    if img.mode in (\"RGBA\"):\n",
    "        img = img.convert(\"RGBA\")\n",
    "        datas = img.getdata()\n",
    "        \n",
    "        for item in datas:\n",
    "            num = decode(rgbtohex(item[0], item[1], item[2]))\n",
    "            if num == None:\n",
    "                pass\n",
    "            else:\n",
    "                binary = binary + num\n",
    "                if binary[-16:] == \"1111111111111110\":\n",
    "                    print(\"Success retrieving message!\")\n",
    "                    return bintostr(binary[:-16])\n",
    "        \n",
    "        return bintostr(binary)\n",
    "    \n",
    "    return \"Incorrect image mode, couldn't retrieve!\""
   ]
  },
  {
   "cell_type": "code",
   "execution_count": 24,
   "metadata": {},
   "outputs": [],
   "source": [
    "def Main():\n",
    "    \n",
    "    root = tk.Tk()\n",
    "    \n",
    "    root.title(\"Image Hider/Retriever\")\n",
    "    \n",
    "    root.geometry(\"200x200\")\n",
    "    \n",
    "    \n",
    "    \n",
    "    root.mainloop()    "
   ]
  },
  {
   "cell_type": "code",
   "execution_count": 26,
   "metadata": {},
   "outputs": [],
   "source": [
    "if __name__ == \"__main__\":\n",
    "    Main()"
   ]
  },
  {
   "cell_type": "code",
   "execution_count": null,
   "metadata": {},
   "outputs": [],
   "source": []
  }
 ],
 "metadata": {
  "kernelspec": {
   "display_name": "Python 3",
   "language": "python",
   "name": "python3"
  },
  "language_info": {
   "codemirror_mode": {
    "name": "ipython",
    "version": 3
   },
   "file_extension": ".py",
   "mimetype": "text/x-python",
   "name": "python",
   "nbconvert_exporter": "python",
   "pygments_lexer": "ipython3",
   "version": "3.6.6"
  }
 },
 "nbformat": 4,
 "nbformat_minor": 2
}
