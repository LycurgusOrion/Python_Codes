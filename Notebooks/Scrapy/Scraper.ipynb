{
 "cells": [
  {
   "cell_type": "code",
   "execution_count": 2,
   "metadata": {},
   "outputs": [],
   "source": [
    "from pandas import DataFrame\n",
    "from itertools import chain\n",
    "from re import compile"
   ]
  },
  {
   "cell_type": "code",
   "execution_count": 3,
   "metadata": {},
   "outputs": [],
   "source": [
    "exp = compile(\"\\d-\\d\")"
   ]
  },
  {
   "cell_type": "code",
   "execution_count": 12,
   "metadata": {},
   "outputs": [],
   "source": [
    "with open(\"data.txt\", \"r+\") as f:\n",
    "    l = list(filter(lambda x: (x is not ' '), list(filter(lambda x: not(x is not '\\t' and len(x) == 2), list(filter(lambda x: len(x) > 0, list(map(lambda x: x.strip(\"\\n\"), f.readlines()))))))))\n",
    "    \n",
    "    x = l[8:14]\n",
    "    x = list(map(lambda y: y.split(\"\\t\"), x))\n",
    "    \n",
    "    d = {i[1]:int(i[0]) for i in x}\n",
    "    \n",
    "    cols = l[18].split(\"\\t\")\n",
    "    cols.insert(5, \"Selection\")\n",
    "    cols.insert(9, \"Modified By\")\n",
    "    cols.insert(len(cols), \"Status\")\n",
    "    \n",
    "    data = list(filter(lambda x: len(x) > 0, list(chain.from_iterable(list(map(lambda x: x.split(\"\\t\"), l[19:]))))))"
   ]
  },
  {
   "cell_type": "code",
   "execution_count": 13,
   "metadata": {
    "scrolled": false
   },
   "outputs": [],
   "source": [
    "data_clean = []\n",
    "i = 0\n",
    "while (i < len(data)):\n",
    "    temp = []\n",
    "    if (exp.match(data[i][:3])):\n",
    "        while True:\n",
    "            try:\n",
    "                temp.append(data[i])\n",
    "                i += 1\n",
    "                if (exp.match(data[i][:3])):\n",
    "                    break\n",
    "            except:\n",
    "                break\n",
    "        data_clean.append(temp)\n",
    "    i += 1"
   ]
  },
  {
   "cell_type": "code",
   "execution_count": 19,
   "metadata": {},
   "outputs": [
    {
     "data": {
      "text/plain": [
       "0"
      ]
     },
     "execution_count": 19,
     "metadata": {},
     "output_type": "execute_result"
    }
   ],
   "source": [
    "verify = len(list(filter(lambda x: len(x) is not len(cols), data_clean)))\n",
    "verify"
   ]
  },
  {
   "cell_type": "code",
   "execution_count": 15,
   "metadata": {},
   "outputs": [],
   "source": [
    "for i in range(len(data_clean)):\n",
    "    if (data_clean[i][5].lower() == data_clean[i][5]):\n",
    "        data_clean[i].insert(5, \" \")"
   ]
  },
  {
   "cell_type": "code",
   "execution_count": 18,
   "metadata": {},
   "outputs": [],
   "source": [
    "for j in range(2):\n",
    "    for i in range(len(data_clean)):\n",
    "        if (len(data_clean[i]) is not len(cols)):\n",
    "            data_clean[i].insert(-1, \" \")"
   ]
  },
  {
   "cell_type": "code",
   "execution_count": 21,
   "metadata": {},
   "outputs": [],
   "source": [
    "df = DataFrame(data=data_clean, columns=cols)"
   ]
  },
  {
   "cell_type": "code",
   "execution_count": 22,
   "metadata": {},
   "outputs": [
    {
     "data": {
      "text/html": [
       "<div>\n",
       "<style scoped>\n",
       "    .dataframe tbody tr th:only-of-type {\n",
       "        vertical-align: middle;\n",
       "    }\n",
       "\n",
       "    .dataframe tbody tr th {\n",
       "        vertical-align: top;\n",
       "    }\n",
       "\n",
       "    .dataframe thead th {\n",
       "        text-align: right;\n",
       "    }\n",
       "</style>\n",
       "<table border=\"1\" class=\"dataframe\">\n",
       "  <thead>\n",
       "    <tr style=\"text-align: right;\">\n",
       "      <th></th>\n",
       "      <th>AR Number</th>\n",
       "      <th>Sev</th>\n",
       "      <th>Reported</th>\n",
       "      <th>Product</th>\n",
       "      <th>Company</th>\n",
       "      <th>Selection</th>\n",
       "      <th>Owner</th>\n",
       "      <th>Assignee</th>\n",
       "      <th>Last Modified</th>\n",
       "      <th>Modified By</th>\n",
       "      <th>Next Contact</th>\n",
       "      <th>Short Description, Current Summary</th>\n",
       "      <th>Status</th>\n",
       "    </tr>\n",
       "  </thead>\n",
       "  <tbody>\n",
       "    <tr>\n",
       "      <th>0</th>\n",
       "      <td>1-7447764</td>\n",
       "      <td>2</td>\n",
       "      <td>2019-02-02 11:41</td>\n",
       "      <td>1830 PSS-32</td>\n",
       "      <td>RELIANCE JIO INFOCOMM LIMITED</td>\n",
       "      <td>No Selection</td>\n",
       "      <td>magc</td>\n",
       "      <td>magc</td>\n",
       "      <td>2019-02-02 11:55</td>\n",
       "      <td>sdinodia</td>\n",
       "      <td></td>\n",
       "      <td>IM88955192 || Hardware//ORKNDPTUMH1NA1O32101//...</td>\n",
       "      <td>Under Investigation</td>\n",
       "    </tr>\n",
       "    <tr>\n",
       "      <th>1</th>\n",
       "      <td>1-7447683</td>\n",
       "      <td>3</td>\n",
       "      <td>2019-02-02 05:03</td>\n",
       "      <td>1830 PSS-32</td>\n",
       "      <td>AZTECA COMUNICACIONES PERU S.A.C.</td>\n",
       "      <td>No Selection</td>\n",
       "      <td>jesush</td>\n",
       "      <td>jesush</td>\n",
       "      <td>2019-02-02 05:30</td>\n",
       "      <td>gejimene</td>\n",
       "      <td>2019-02-04 11:30</td>\n",
       "      <td>Ticket preventivo por upgrade de equipos: Cast...</td>\n",
       "      <td>Awaiting Customer Maintenance Window</td>\n",
       "    </tr>\n",
       "    <tr>\n",
       "      <th>2</th>\n",
       "      <td>1-7447644</td>\n",
       "      <td>2</td>\n",
       "      <td>2019-02-02 03:00</td>\n",
       "      <td>1830 PSS-4</td>\n",
       "      <td>Bharti</td>\n",
       "      <td>BHARTI DEWAS</td>\n",
       "      <td>abhisheg</td>\n",
       "      <td>abhisheg</td>\n",
       "      <td>2019-02-02 03:53</td>\n",
       "      <td>abhisheg</td>\n",
       "      <td>2019-02-07 23:57</td>\n",
       "      <td>Node Unmanaged DVP-BLJK-THW-T-A1951</td>\n",
       "      <td>Awaiting Customer Field Engineer Arrival</td>\n",
       "    </tr>\n",
       "    <tr>\n",
       "      <th>3</th>\n",
       "      <td>1-7447527</td>\n",
       "      <td>1</td>\n",
       "      <td>2019-02-02 00:08</td>\n",
       "      <td>1830 PSS-32</td>\n",
       "      <td>VIVO</td>\n",
       "      <td>No Selection</td>\n",
       "      <td>knaves</td>\n",
       "      <td>knaves</td>\n",
       "      <td>2019-02-02 02:42</td>\n",
       "      <td>knaves</td>\n",
       "      <td>2019-02-04 17:30</td>\n",
       "      <td>Vivo_BR - PSS-32 - Customer informed that the ...</td>\n",
       "      <td>==== 01/02/2019--19h09 -- GMT-3 --&gt; updated th...</td>\n",
       "    </tr>\n",
       "    <tr>\n",
       "      <th>4</th>\n",
       "      <td>1-7447444</td>\n",
       "      <td>3</td>\n",
       "      <td>2019-02-01 21:59</td>\n",
       "      <td>1830 PSS-64</td>\n",
       "      <td>Saudi Telecom Company</td>\n",
       "      <td>No Selection</td>\n",
       "      <td>abdul</td>\n",
       "      <td>abdul</td>\n",
       "      <td>2019-02-01 22:57</td>\n",
       "      <td>abdul</td>\n",
       "      <td>2019-02-11 14:30</td>\n",
       "      <td>Customer is complaining for abnormal traffic f...</td>\n",
       "      <td>After checking we found no any issue on Nokia ...</td>\n",
       "    </tr>\n",
       "  </tbody>\n",
       "</table>\n",
       "</div>"
      ],
      "text/plain": [
       "   AR Number Sev          Reported      Product  \\\n",
       "0  1-7447764   2  2019-02-02 11:41  1830 PSS-32   \n",
       "1  1-7447683   3  2019-02-02 05:03  1830 PSS-32   \n",
       "2  1-7447644   2  2019-02-02 03:00   1830 PSS-4   \n",
       "3  1-7447527   1  2019-02-02 00:08  1830 PSS-32   \n",
       "4  1-7447444   3  2019-02-01 21:59  1830 PSS-64   \n",
       "\n",
       "                             Company     Selection     Owner  Assignee  \\\n",
       "0      RELIANCE JIO INFOCOMM LIMITED  No Selection      magc      magc   \n",
       "1  AZTECA COMUNICACIONES PERU S.A.C.  No Selection    jesush    jesush   \n",
       "2                             Bharti  BHARTI DEWAS  abhisheg  abhisheg   \n",
       "3                               VIVO  No Selection    knaves    knaves   \n",
       "4              Saudi Telecom Company  No Selection     abdul     abdul   \n",
       "\n",
       "      Last Modified Modified By      Next Contact  \\\n",
       "0  2019-02-02 11:55    sdinodia                     \n",
       "1  2019-02-02 05:30    gejimene  2019-02-04 11:30   \n",
       "2  2019-02-02 03:53    abhisheg  2019-02-07 23:57   \n",
       "3  2019-02-02 02:42      knaves  2019-02-04 17:30   \n",
       "4  2019-02-01 22:57       abdul  2019-02-11 14:30   \n",
       "\n",
       "                  Short Description, Current Summary  \\\n",
       "0  IM88955192 || Hardware//ORKNDPTUMH1NA1O32101//...   \n",
       "1  Ticket preventivo por upgrade de equipos: Cast...   \n",
       "2                Node Unmanaged DVP-BLJK-THW-T-A1951   \n",
       "3  Vivo_BR - PSS-32 - Customer informed that the ...   \n",
       "4  Customer is complaining for abnormal traffic f...   \n",
       "\n",
       "                                              Status  \n",
       "0                                Under Investigation  \n",
       "1               Awaiting Customer Maintenance Window  \n",
       "2           Awaiting Customer Field Engineer Arrival  \n",
       "3  ==== 01/02/2019--19h09 -- GMT-3 --> updated th...  \n",
       "4  After checking we found no any issue on Nokia ...  "
      ]
     },
     "execution_count": 22,
     "metadata": {},
     "output_type": "execute_result"
    }
   ],
   "source": [
    "df.head()"
   ]
  },
  {
   "cell_type": "code",
   "execution_count": 23,
   "metadata": {},
   "outputs": [],
   "source": [
    "df.to_csv(\"AR.csv\", index=False)"
   ]
  },
  {
   "cell_type": "code",
   "execution_count": null,
   "metadata": {},
   "outputs": [],
   "source": []
  }
 ],
 "metadata": {
  "kernelspec": {
   "display_name": "Python 3",
   "language": "python",
   "name": "python3"
  }
 },
 "nbformat": 4,
 "nbformat_minor": 2
}
