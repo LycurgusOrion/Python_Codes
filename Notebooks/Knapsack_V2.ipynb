{
 "cells": [
  {
   "cell_type": "code",
   "execution_count": 1,
   "metadata": {},
   "outputs": [],
   "source": [
    "# Aaditya Verma\n",
    "# 16CSU001\n",
    "# 31/8/18\n",
    "# Knapsack Problem"
   ]
  },
  {
   "cell_type": "code",
   "execution_count": 2,
   "metadata": {},
   "outputs": [],
   "source": [
    "import time"
   ]
  },
  {
   "cell_type": "code",
   "execution_count": 9,
   "metadata": {},
   "outputs": [],
   "source": [
    "def GreedySolution(weights, values, weight_of_bag):\n",
    "    \n",
    "    w_knapsack = 0\n",
    "    \n",
    "    ratio = [ x / y for x, y in zip(values, weights)]\n",
    "    dic = {}\n",
    "    dic_v = {}\n",
    "    n = len(weights)\n",
    "    \n",
    "    for i in range(n):\n",
    "        dic[weights[i]] = ratio[i]\n",
    "    \n",
    "    for i in range(n):\n",
    "        dic_v[values[i]] = ratio[i]\n",
    "    \n",
    "    dic = dict(sorted(dic.items(), key=lambda x: x[1], reverse=True))\n",
    "    dic_v = dict(sorted(dic_v.items(), key=lambda x: x[1], reverse=True))\n",
    "    \n",
    "    print(\"Dictionary of Weights = \", dic)\n",
    "    print(\"Dictionary of Values = \", dic_v)\n",
    "    \n",
    "    x = []\n",
    "    for i in dic:\n",
    "        if (i + w_knapsack) >= weight_of_bag:\n",
    "            x.append((weight_of_bag - w_knapsack) / i)\n",
    "            w_knapsack += (weight_of_bag - w_knapsack)\n",
    "        else:\n",
    "            x.append(1)\n",
    "            w_knapsack += i\n",
    "    \n",
    "    try:\n",
    "        profit = 0\n",
    "        j = 0\n",
    "        print(\"X = \", x)\n",
    "        for i in dic_v:\n",
    "            profit += (x[j] * i)\n",
    "            j += 1\n",
    "    except:\n",
    "        pass\n",
    "\n",
    "    print(\"Max Profit = \", profit)"
   ]
  },
  {
   "cell_type": "code",
   "execution_count": 10,
   "metadata": {},
   "outputs": [],
   "source": [
    "def Main():\n",
    "    \n",
    "    weight_of_bag = 20\n",
    "\n",
    "    weights = [5, 8, 6, 4, 6]\n",
    "    values = [20, 40, 32, 25, 35]\n",
    "\n",
    "    GreedySolution(weights, values, weight_of_bag)"
   ]
  },
  {
   "cell_type": "code",
   "execution_count": 11,
   "metadata": {},
   "outputs": [
    {
     "name": "stdout",
     "output_type": "stream",
     "text": [
      "Dictionary of Weights =  {4: 6.25, 6: 5.833333333333333, 8: 5.0, 5: 4.0}\n",
      "Dictionary of Values =  {25: 6.25, 35: 5.833333333333333, 32: 5.333333333333333, 40: 5.0, 20: 4.0}\n",
      "X =  [1, 1, 1, 0.4]\n",
      "Max Profit =  108.0\n",
      "Execution time =  0.0 seconds\n"
     ]
    }
   ],
   "source": [
    "if __name__ == \"__main__\":\n",
    "    start_time = time.time()\n",
    "    Main()\n",
    "    print(\"Execution time = \", (time.time() - start_time), \"seconds\")"
   ]
  },
  {
   "cell_type": "code",
   "execution_count": null,
   "metadata": {},
   "outputs": [],
   "source": []
  }
 ],
 "metadata": {
  "kernelspec": {
   "display_name": "Python 3",
   "language": "python",
   "name": "python3"
  },
  "language_info": {
   "codemirror_mode": {
    "name": "ipython",
    "version": 3
   },
   "file_extension": ".py",
   "mimetype": "text/x-python",
   "name": "python",
   "nbconvert_exporter": "python",
   "pygments_lexer": "ipython3",
   "version": "3.7.0"
  }
 },
 "nbformat": 4,
 "nbformat_minor": 2
}
