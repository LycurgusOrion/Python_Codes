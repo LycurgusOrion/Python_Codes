{
 "cells": [
  {
   "cell_type": "code",
   "execution_count": 62,
   "metadata": {},
   "outputs": [],
   "source": [
    "import subprocess\n",
    "import socket"
   ]
  },
  {
   "cell_type": "code",
   "execution_count": 63,
   "metadata": {},
   "outputs": [],
   "source": [
    "ip = socket.gethostbyname(socket.gethostname())"
   ]
  },
  {
   "cell_type": "code",
   "execution_count": 64,
   "metadata": {},
   "outputs": [],
   "source": [
    "proc = subprocess.Popen('ipconfig', stdout=subprocess.PIPE)\n",
    "\n",
    "while True:\n",
    "    line = proc.stdout.readline()\n",
    "    if ip.encode() in line:\n",
    "        break\n",
    "\n",
    "mask = proc.stdout.readline().rstrip().split(b':')[-1].replace(b' ',b'').decode()"
   ]
  },
  {
   "cell_type": "code",
   "execution_count": 65,
   "metadata": {},
   "outputs": [
    {
     "name": "stdout",
     "output_type": "stream",
     "text": [
      "IP:  192.168.13.188\n",
      "Mask:  255.255.240.0\n"
     ]
    }
   ],
   "source": [
    "print(\"IP: \", ip)\n",
    "print(\"Mask: \", mask)"
   ]
  },
  {
   "cell_type": "code",
   "execution_count": 66,
   "metadata": {},
   "outputs": [],
   "source": [
    "ip_list = list(map(int, ip.split(\".\")))\n",
    "mask_list = list(map(int, mask.split(\".\")))"
   ]
  },
  {
   "cell_type": "code",
   "execution_count": 67,
   "metadata": {},
   "outputs": [],
   "source": [
    "broad_list = [0, 0, 0, 0]\n",
    "for i in range(len(ip_list)):\n",
    "    broad_list[i] = ip_list[i] or mask_list[i]"
   ]
  },
  {
   "cell_type": "code",
   "execution_count": 68,
   "metadata": {},
   "outputs": [
    {
     "name": "stdout",
     "output_type": "stream",
     "text": [
      "IP List:  [192, 168, 13, 188]\n",
      "Mask List:  [255, 255, 240, 0]\n",
      "Broadcast List:  [192, 168, 13, 188]\n"
     ]
    }
   ],
   "source": [
    "print(\"IP List: \", ip_list)\n",
    "print(\"Mask List: \", mask_list)\n",
    "print(\"Broadcast List: \", broad_list)"
   ]
  },
  {
   "cell_type": "code",
   "execution_count": 69,
   "metadata": {},
   "outputs": [],
   "source": [
    "b_addr = \".\".join(str(e) for e in broad_list)"
   ]
  },
  {
   "cell_type": "code",
   "execution_count": 70,
   "metadata": {},
   "outputs": [
    {
     "name": "stdout",
     "output_type": "stream",
     "text": [
      "192.168.13.188\n"
     ]
    }
   ],
   "source": [
    "print(b_addr)"
   ]
  },
  {
   "cell_type": "code",
   "execution_count": 71,
   "metadata": {},
   "outputs": [],
   "source": [
    "status = subprocess.Popen(\"ping www.google.com\", shell=True, stdout=subprocess.PIPE)"
   ]
  },
  {
   "cell_type": "code",
   "execution_count": 72,
   "metadata": {},
   "outputs": [],
   "source": [
    "output = \"\"\n",
    "while status.stdout.readline():\n",
    "    output\n",
    "for i in output:\n",
    "    print(str(i).strip())"
   ]
  }
 ],
 "metadata": {
  "kernelspec": {
   "display_name": "Python 3",
   "language": "python",
   "name": "python3"
  },
  "language_info": {
   "codemirror_mode": {
    "name": "ipython",
    "version": 3
   },
   "file_extension": ".py",
   "mimetype": "text/x-python",
   "name": "python",
   "nbconvert_exporter": "python",
   "pygments_lexer": "ipython3",
   "version": "3.7.0"
  }
 },
 "nbformat": 4,
 "nbformat_minor": 2
}
