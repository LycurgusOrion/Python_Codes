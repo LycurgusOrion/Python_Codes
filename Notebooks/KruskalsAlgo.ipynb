{
 "cells": [
  {
   "cell_type": "code",
   "execution_count": 13,
   "metadata": {},
   "outputs": [],
   "source": [
    "# Aaditya Verma\n",
    "# 16CSU001\n",
    "# Kruskal's Algorithm"
   ]
  },
  {
   "cell_type": "code",
   "execution_count": 5,
   "metadata": {},
   "outputs": [],
   "source": [
    "parent = dict()\n",
    "rank = dict()"
   ]
  },
  {
   "cell_type": "code",
   "execution_count": 6,
   "metadata": {},
   "outputs": [],
   "source": [
    "def make_set(vertice):\n",
    "    parent[vertice] = vertice\n",
    "    rank[vertice] = 0"
   ]
  },
  {
   "cell_type": "code",
   "execution_count": 7,
   "metadata": {},
   "outputs": [],
   "source": [
    "def find(vertice):\n",
    "    if parent[vertice] != vertice:\n",
    "        parent[vertice] = find(parent[vertice])\n",
    "    return parent[vertice]"
   ]
  },
  {
   "cell_type": "code",
   "execution_count": 9,
   "metadata": {},
   "outputs": [],
   "source": [
    "def union(vertice1, vertice2):\n",
    "    root1 = find(vertice1)\n",
    "    root2 = find(vertice2)\n",
    "    if root1 != root2:\n",
    "        if rank[root1] > rank[root2]:\n",
    "            parent[root2] = root1\n",
    "    else:\n",
    "        parent[root1] = root2\n",
    "    \n",
    "    if rank[root1] == rank[root2]: rank[root2] += 1"
   ]
  },
  {
   "cell_type": "code",
   "execution_count": 10,
   "metadata": {},
   "outputs": [],
   "source": [
    "def kruskal(graph):\n",
    "    for vertice in graph['vertices']:\n",
    "        make_set(vertice)\n",
    "        minimum_spanning_tree = set()\n",
    "        edges = list(graph['edges'])\n",
    "        edges.sort()\n",
    "    #print edges\n",
    "    for edge in edges:\n",
    "        weight, vertice1, vertice2 = edge\n",
    "        if find(vertice1) != find(vertice2):\n",
    "            union(vertice1, vertice2)\n",
    "            minimum_spanning_tree.add(edge)\n",
    "\n",
    "    return sorted(minimum_spanning_tree)"
   ]
  },
  {
   "cell_type": "code",
   "execution_count": 11,
   "metadata": {},
   "outputs": [],
   "source": [
    "graph = {\n",
    "'vertices': ['A', 'B', 'C', 'D', 'E', 'F', 'G'],\n",
    "'edges': set([\n",
    "(7, 'A', 'B'),\n",
    "(5, 'A', 'D'),\n",
    "(7, 'B', 'A'),\n",
    "(8, 'B', 'C'),\n",
    "(9, 'B', 'D'),\n",
    "(7, 'B', 'E'),\n",
    "(8, 'C', 'B'),\n",
    "(5, 'C', 'E'),\n",
    "(5, 'D', 'A'),\n",
    "(9, 'D', 'B'),\n",
    "(7, 'D', 'E'),\n",
    "(6, 'D', 'F'),\n",
    "(7, 'E', 'B'),\n",
    "(5, 'E', 'C'),\n",
    "(15, 'E', 'D'),\n",
    "(8, 'E', 'F'),\n",
    "(9, 'E', 'G'),\n",
    "(6, 'F', 'D'),\n",
    "(8, 'F', 'E'),\n",
    "(11, 'F', 'G'),\n",
    "(9, 'G', 'E'),\n",
    "(11, 'G', 'F'),\n",
    "])\n",
    "}"
   ]
  },
  {
   "cell_type": "code",
   "execution_count": 12,
   "metadata": {},
   "outputs": [
    {
     "name": "stdout",
     "output_type": "stream",
     "text": [
      "[(5, 'A', 'D'), (5, 'C', 'E'), (5, 'D', 'A'), (5, 'E', 'C'), (6, 'D', 'F'), (7, 'A', 'B'), (7, 'B', 'E'), (7, 'D', 'E'), (7, 'E', 'B'), (9, 'E', 'G')]\n"
     ]
    }
   ],
   "source": [
    "print(kruskal(graph))"
   ]
  }
 ],
 "metadata": {
  "kernelspec": {
   "display_name": "Python 3",
   "language": "python",
   "name": "python3"
  },
  "language_info": {
   "codemirror_mode": {
    "name": "ipython",
    "version": 3
   },
   "file_extension": ".py",
   "mimetype": "text/x-python",
   "name": "python",
   "nbconvert_exporter": "python",
   "pygments_lexer": "ipython3",
   "version": "3.6.6"
  }
 },
 "nbformat": 4,
 "nbformat_minor": 2
}
