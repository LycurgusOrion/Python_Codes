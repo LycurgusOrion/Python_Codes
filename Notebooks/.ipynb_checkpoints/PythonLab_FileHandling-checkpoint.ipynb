{
 "cells": [
  {
   "cell_type": "code",
   "execution_count": 2,
   "metadata": {},
   "outputs": [],
   "source": [
    "# Aaditya Verma\n",
    "# 16CSU001\n",
    "# Programs on File Handling"
   ]
  },
  {
   "cell_type": "code",
   "execution_count": 3,
   "metadata": {},
   "outputs": [],
   "source": [
    "import os\n",
    "import sys\n",
    "import time\n",
    "import re\n",
    "import subprocess as sub"
   ]
  },
  {
   "cell_type": "code",
   "execution_count": 4,
   "metadata": {},
   "outputs": [],
   "source": [
    "# Program to read last n lines of a file"
   ]
  },
  {
   "cell_type": "code",
   "execution_count": 5,
   "metadata": {},
   "outputs": [
    {
     "name": "stdout",
     "output_type": "stream",
     "text": [
      "Enter number of lines to write: 5\n",
      "Enter text 0: ABCD\n",
      "Enter text 1: HELLOO WORLD\n",
      "Enter text 2: 12345\n",
      "Enter text 3: RTYUD\n",
      "Enter text 4: SWETA IS LUV\n",
      "['ABCD\\n', 'HELLOO WORLD\\n', '12345\\n', 'RTYUD\\n', 'SWETA IS LUV\\n']\n"
     ]
    }
   ],
   "source": [
    "# Write some data into file\n",
    "\n",
    "with open(\"SampleFile.txt\", \"w\") as file_write:\n",
    "    num = int(input(\"Enter number of lines to write: \"))\n",
    "    input_lines = [(input(\"Enter text {}: \".format(i)) + \"\\n\") for i in range(num)]\n",
    "    print(input_lines)\n",
    "    file_write.writelines(input_lines)"
   ]
  },
  {
   "cell_type": "code",
   "execution_count": 6,
   "metadata": {},
   "outputs": [
    {
     "name": "stdout",
     "output_type": "stream",
     "text": [
      "Enter number of lines from end to read: 3\n",
      "['12345\\n', 'RTYUD\\n', 'SWETA IS LUV\\n']\n",
      "['12345', 'RTYUD', 'SWETA IS LUV']\n"
     ]
    }
   ],
   "source": [
    "# Open in read mode to read last n lines\n",
    "\n",
    "with open(\"SampleFile.txt\") as file_read:\n",
    "    num = int(input(\"Enter number of lines from end to read: \"))\n",
    "    lines = file_read.readlines()[-num:]\n",
    "    print(lines)\n",
    "    lines = [i.strip(\"\\n\") for i in lines]\n",
    "    print(lines)"
   ]
  },
  {
   "cell_type": "code",
   "execution_count": 23,
   "metadata": {},
   "outputs": [],
   "source": [
    "# Program to find longest word in a file (assuming words seperated by spaces or new lines)"
   ]
  },
  {
   "cell_type": "code",
   "execution_count": 7,
   "metadata": {},
   "outputs": [
    {
     "name": "stdout",
     "output_type": "stream",
     "text": [
      "['ABCD', 'HELLOO', 'WORLD', '12345', 'RTYUD', 'SWETA', 'IS', 'LUV', '']\n",
      "[4, 6, 5, 5, 5, 5, 2, 3, 0]\n",
      "Longest Word = HELLOO\n"
     ]
    }
   ],
   "source": [
    "with open(\"SampleFile.txt\") as file_read:\n",
    "    lines = re.split(\"\\W+\", file_read.read())\n",
    "    print(lines)\n",
    "    count = list(map(lambda x: len(x), lines))\n",
    "    print(count)\n",
    "    print(\"Longest Word = \" + lines[count.index(max(count))])"
   ]
  },
  {
   "cell_type": "code",
   "execution_count": 38,
   "metadata": {},
   "outputs": [],
   "source": [
    "# Program to count number of lines in a file"
   ]
  },
  {
   "cell_type": "code",
   "execution_count": 40,
   "metadata": {},
   "outputs": [
    {
     "name": "stdout",
     "output_type": "stream",
     "text": [
      "Number of lines = 5\n"
     ]
    }
   ],
   "source": [
    "with open(\"SampleFile.txt\") as file_read:\n",
    "    print(\"Number of lines = \" + str(len(file_read.readlines())))"
   ]
  },
  {
   "cell_type": "code",
   "execution_count": 41,
   "metadata": {},
   "outputs": [],
   "source": [
    "# Program to get the file size of a plain file"
   ]
  },
  {
   "cell_type": "code",
   "execution_count": 8,
   "metadata": {},
   "outputs": [
    {
     "name": "stdout",
     "output_type": "stream",
     "text": [
      "Size of the file = 48\n"
     ]
    }
   ],
   "source": [
    "with open(\"SampleFile.txt\") as file_read:\n",
    "    print(\"Size of the file = \" + str(file_read.seek(0, 2)))"
   ]
  },
  {
   "cell_type": "code",
   "execution_count": 43,
   "metadata": {},
   "outputs": [],
   "source": [
    "# Program to write a list into a file"
   ]
  },
  {
   "cell_type": "code",
   "execution_count": 44,
   "metadata": {},
   "outputs": [
    {
     "name": "stdout",
     "output_type": "stream",
     "text": [
      "['123\\n', 'hello world\\n', '!@#$\\n', 'quick brown fox\\n', 'Lorem ipsum\\n']\n"
     ]
    }
   ],
   "source": [
    "with open(\"SampleFile.txt\", \"w\") as file_write:\n",
    "    lines = [\"123\", \"hello world\", \"!@#$\", \"quick brown fox\", \"Lorem ipsum\"]\n",
    "    list_to_write = [\"{}\\n\".format(i) for i in lines]\n",
    "    print(list_to_write)\n",
    "    file_write.writelines(list_to_write)"
   ]
  },
  {
   "cell_type": "code",
   "execution_count": 45,
   "metadata": {},
   "outputs": [],
   "source": [
    "# Program to remove newline chars from a file"
   ]
  },
  {
   "cell_type": "code",
   "execution_count": 72,
   "metadata": {},
   "outputs": [
    {
     "name": "stdout",
     "output_type": "stream",
     "text": [
      "['123', 'hello world', '!@#$', 'quick brown fox', 'Lorem ipsum']\n"
     ]
    }
   ],
   "source": [
    "with open(\"SampleFile.txt\", \"r+\") as file_read:\n",
    "    lines = list(map(lambda x: x.strip(\"\\n\"), file_read.readlines()))\n",
    "    print(lines)\n",
    "    file_read.truncate(0)\n",
    "    file_read.writelines(lines)"
   ]
  },
  {
   "cell_type": "code",
   "execution_count": 76,
   "metadata": {},
   "outputs": [
    {
     "name": "stdout",
     "output_type": "stream",
     "text": [
      "\u0000\u0000\u0000\u0000\u0000\u0000\u0000\u0000\u0000\u0000\u0000\u0000\u0000\u0000\u0000\u0000\u0000\u0000\u0000\u0000\u0000\u0000\u0000\u0000\u0000\u0000\u0000\u0000\u0000\u0000\u0000\u0000\u0000\u0000\u0000\u0000\u0000\u0000\u0000\u0000\u0000\u0000\u0000\u0000\u0000\u0000\u0000\u0000\u0000\u0000\u0000\u0000123hello world!@#$quick brown foxLorem ipsum\n"
     ]
    }
   ],
   "source": [
    "status = sub.Popen(\"type SampleFile.txt\", shell=True, stdout=sub.PIPE)\n",
    "print(status.stdout.read().decode(\"utf-8\"))"
   ]
  },
  {
   "cell_type": "code",
   "execution_count": 77,
   "metadata": {},
   "outputs": [],
   "source": [
    "with open(\"SampleFile.txt\") as file_read:\n",
    "    with open(\"SampleFile_Copy.txt\", \"w\") as file_write:\n",
    "        file_write.writelines(file_read.readlines())"
   ]
  },
  {
   "cell_type": "code",
   "execution_count": 78,
   "metadata": {},
   "outputs": [
    {
     "name": "stdout",
     "output_type": "stream",
     "text": [
      "\u0000\u0000\u0000\u0000\u0000\u0000\u0000\u0000\u0000\u0000\u0000\u0000\u0000\u0000\u0000\u0000\u0000\u0000\u0000\u0000\u0000\u0000\u0000\u0000\u0000\u0000\u0000\u0000\u0000\u0000\u0000\u0000\u0000\u0000\u0000\u0000\u0000\u0000\u0000\u0000\u0000\u0000\u0000\u0000\u0000\u0000\u0000\u0000\u0000\u0000\u0000\u0000123hello world!@#$quick brown foxLorem ipsum\n"
     ]
    }
   ],
   "source": [
    "status = sub.Popen(\"type SampleFile_Copy.txt\", shell=True, stdout=sub.PIPE)\n",
    "print(status.stdout.read().decode(\"utf-8\"))"
   ]
  }
 ],
 "metadata": {
  "kernelspec": {
   "display_name": "Python 3",
   "language": "python",
   "name": "python3"
  },
  "language_info": {
   "codemirror_mode": {
    "name": "ipython",
    "version": 3
   },
   "file_extension": ".py",
   "mimetype": "text/x-python",
   "name": "python",
   "nbconvert_exporter": "python",
   "pygments_lexer": "ipython3",
   "version": "3.7.0"
  }
 },
 "nbformat": 4,
 "nbformat_minor": 2
}
