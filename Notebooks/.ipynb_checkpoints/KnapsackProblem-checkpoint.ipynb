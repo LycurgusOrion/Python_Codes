{
 "cells": [
  {
   "cell_type": "code",
   "execution_count": 1,
   "metadata": {},
   "outputs": [],
   "source": [
    "import sys\n",
    "import os\n",
    "import time"
   ]
  },
  {
   "cell_type": "code",
   "execution_count": 14,
   "metadata": {},
   "outputs": [],
   "source": [
    "def GreedySolution(w, p, ratio, W):\n",
    "    \n",
    "    x = [ 0 for i in range(n)]\n",
    "    \n",
    "    weight = 0\n",
    "    \n",
    "    for i in range(n): \n",
    "        if weight + w[i] <= W: \n",
    "            x[i] = 1\n",
    "            weight = weight + w[i] \n",
    "        else:\n",
    "            x[i] = (W - weight) / w[i] \n",
    "            weight = W \n",
    "            break\n",
    "    \n",
    "    return x"
   ]
  },
  {
   "cell_type": "code",
   "execution_count": 15,
   "metadata": {},
   "outputs": [
    {
     "name": "stdout",
     "output_type": "stream",
     "text": [
      "Enter the weight of bag: 20\n",
      "Enter number of items: 10\n",
      "Enter weight 0: 3\n",
      "Enter weight 1: 2\n",
      "Enter weight 2: 5\n",
      "Enter weight 3: 7\n",
      "Enter weight 4: 8\n",
      "Enter weight 5: 1\n",
      "Enter weight 6: 5\n",
      "Enter weight 7: 2\n",
      "Enter weight 8: 4\n",
      "Enter weight 9: 6\n",
      "Enter value 0: 12\n",
      "Enter value 1: 10\n",
      "Enter value 2: 5\n",
      "Enter value 3: 20\n",
      "Enter value 4: 21\n",
      "Enter value 5: 34\n",
      "Enter value 6: 55\n",
      "Enter value 7: 20\n",
      "Enter value 8: 15\n",
      "Enter value 9: 11\n"
     ]
    }
   ],
   "source": [
    "weight_of_bag = int(input(\"Enter the weight of bag: \"))\n",
    "\n",
    "weights = []\n",
    "values = []\n",
    "\n",
    "n = int(input(\"Enter number of items: \"))\n",
    "\n",
    "for i in range(n):\n",
    "    weights.append(int(input(\"Enter weight {}: \".format(i))))\n",
    "\n",
    "for i in range(n):\n",
    "    values.append(int(input(\"Enter value {}: \".format(i))))"
   ]
  },
  {
   "cell_type": "code",
   "execution_count": 16,
   "metadata": {},
   "outputs": [
    {
     "name": "stdout",
     "output_type": "stream",
     "text": [
      "[4.0, 5.0, 1.0, 2.857142857142857, 2.625, 34.0, 11.0, 10.0, 3.75, 1.8333333333333333]\n"
     ]
    }
   ],
   "source": [
    "ratio = [ x / y for x, y in zip(values, weights)]\n",
    "print(ratio)"
   ]
  },
  {
   "cell_type": "code",
   "execution_count": 17,
   "metadata": {},
   "outputs": [],
   "source": [
    "def partition(arr,low,high):\n",
    "    \n",
    "    i = ( low-1 )         # index of smaller element\n",
    "    pivot = arr[high]     # pivot\n",
    " \n",
    "    for j in range(low , high):\n",
    " \n",
    "        # If current element is smaller than or\n",
    "        # equal to pivot\n",
    "        if   arr[j] <= pivot:\n",
    "         \n",
    "            # increment index of smaller element\n",
    "            i = i+1\n",
    "            arr[i],arr[j] = arr[j],arr[i]\n",
    " \n",
    "    arr[i+1],arr[high] = arr[high],arr[i+1]\n",
    "    return ( i+1 )\n",
    "\n",
    "\n",
    "# Function to do Quick sort\n",
    "def quickSort(arr,low,high):\n",
    "    \n",
    "    if low < high:\n",
    " \n",
    "        # pi is partitioning index, arr[p] is now\n",
    "        # at right place\n",
    "        pi = partition(arr,low,high)\n",
    " \n",
    "        # Separately sort elements before\n",
    "        # partition and after partition\n",
    "        quickSort(arr, low, pi-1)\n",
    "        quickSort(arr, pi+1, high)"
   ]
  },
  {
   "cell_type": "code",
   "execution_count": 18,
   "metadata": {},
   "outputs": [
    {
     "name": "stdout",
     "output_type": "stream",
     "text": [
      "[1.0, 1.8333333333333333, 2.625, 2.857142857142857, 3.75, 4.0, 5.0, 10.0, 11.0, 34.0]\n"
     ]
    }
   ],
   "source": [
    "quickSort(ratio, 0, len(ratio)-1)\n",
    "print(ratio)"
   ]
  },
  {
   "cell_type": "code",
   "execution_count": 19,
   "metadata": {},
   "outputs": [
    {
     "name": "stdout",
     "output_type": "stream",
     "text": [
      "[1, 1, 1, 1, 0.375, 0, 0, 0, 0, 0]\n"
     ]
    }
   ],
   "source": [
    "x = GreedySolution(weights, values, ratio, weight_of_bag)\n",
    "print(x)"
   ]
  },
  {
   "cell_type": "code",
   "execution_count": null,
   "metadata": {},
   "outputs": [],
   "source": [
    "max_value = 0\n",
    "for i in range(n):\n",
    "    max_value += values[i]"
   ]
  }
 ],
 "metadata": {
  "kernelspec": {
   "display_name": "Python 3",
   "language": "python",
   "name": "python3"
  },
  "language_info": {
   "codemirror_mode": {
    "name": "ipython",
    "version": 3
   },
   "file_extension": ".py",
   "mimetype": "text/x-python",
   "name": "python",
   "nbconvert_exporter": "python",
   "pygments_lexer": "ipython3",
   "version": "3.7.0"
  }
 },
 "nbformat": 4,
 "nbformat_minor": 2
}
