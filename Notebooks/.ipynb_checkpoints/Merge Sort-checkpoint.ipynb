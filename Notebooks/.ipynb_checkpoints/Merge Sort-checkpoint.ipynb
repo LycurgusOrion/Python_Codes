{
 "cells": [
  {
   "cell_type": "code",
   "execution_count": 23,
   "metadata": {},
   "outputs": [],
   "source": [
    "# Aaditya Verma\n",
    "# 16CSU001\n",
    "# Merge Sort"
   ]
  },
  {
   "cell_type": "code",
   "execution_count": 24,
   "metadata": {},
   "outputs": [],
   "source": [
    "import time"
   ]
  },
  {
   "cell_type": "code",
   "execution_count": 45,
   "metadata": {},
   "outputs": [],
   "source": [
    "def Merge(left,right,A):\n",
    "    i=j=k=0\n",
    "\n",
    "    while(i < len(left) and j < len(right)):\n",
    "        if(left[i] < right[j]):\n",
    "            A[k]=left[i]\n",
    "            i+=1\n",
    "\n",
    "        else:\n",
    "            A[k]=right[j]\n",
    "            j+=1\n",
    "\n",
    "        k+=1\n",
    "\n",
    "    while(i < len(left)):\n",
    "        A[k]=left[i]\n",
    "        i+=1\n",
    "        k+=1\n",
    "\n",
    "    while(j < len(right)):\n",
    "        A[k]=right[j]\n",
    "        j+=1\n",
    "        k+=1\n",
    "\n",
    "\n",
    "def MergeSort(A):\n",
    "    left = []\n",
    "    right = []\n",
    "    n = len(A)\n",
    "    \n",
    "    if(n<2):\n",
    "        return\n",
    "    \n",
    "    mid = int(n/2)\n",
    "    \n",
    "    for i in range(mid):\n",
    "        left.append(A[i])\n",
    "    for i in range(mid,n):\n",
    "        right.append(A[i])\n",
    "\n",
    "    MergeSort(left)\n",
    "    MergeSort(right)\n",
    "    Merge(left,right,A)"
   ]
  },
  {
   "cell_type": "code",
   "execution_count": 48,
   "metadata": {},
   "outputs": [
    {
     "name": "stdout",
     "output_type": "stream",
     "text": [
      "Unsorted =  [12, 1, 5, 22, 9]\n",
      "Sorted =  [1, 5, 9, 12, 22]\n",
      "Execution time =  0.0009394300000167277 seconds\n"
     ]
    }
   ],
   "source": [
    "start_time = time.perf_counter()\n",
    "\n",
    "A = [12, 1, 5, 22, 9]\n",
    "\n",
    "print(\"Unsorted = \", A)\n",
    "MergeSort(A)\n",
    "print(\"Sorted = \", A)\n",
    "\n",
    "print(\"Execution time = \", time.perf_counter() - start_time, \"seconds\")"
   ]
  }
 ],
 "metadata": {
  "kernelspec": {
   "display_name": "Python 3",
   "language": "python",
   "name": "python3"
  },
  "language_info": {
   "codemirror_mode": {
    "name": "ipython",
    "version": 3
   },
   "file_extension": ".py",
   "mimetype": "text/x-python",
   "name": "python",
   "nbconvert_exporter": "python",
   "pygments_lexer": "ipython3",
   "version": "3.7.0"
  }
 },
 "nbformat": 4,
 "nbformat_minor": 2
}
