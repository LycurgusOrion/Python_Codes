{
 "cells": [
  {
   "cell_type": "code",
   "execution_count": null,
   "metadata": {},
   "outputs": [],
   "source": [
    "# Aaditya Verma\n",
    "# 16CSU001\n",
    "# BFS"
   ]
  },
  {
   "cell_type": "code",
   "execution_count": 1,
   "metadata": {},
   "outputs": [],
   "source": [
    "import collections"
   ]
  },
  {
   "cell_type": "code",
   "execution_count": 26,
   "metadata": {},
   "outputs": [],
   "source": [
    "def bfs(graph, root): \n",
    "    visited, queue = set(), collections.deque([root])\n",
    "    print(\"Visited = \", visited)\n",
    "    print(\"Queue =\", queue)\n",
    "    visited.add(root)\n",
    "    while queue:\n",
    "        vertex = queue.popleft()\n",
    "        print(\"Vertex =\", vertex)\n",
    "        for neighbour in graph[vertex]: \n",
    "            if neighbour not in visited: \n",
    "                visited.add(neighbour) \n",
    "                queue.append(neighbour)\n",
    "                print(\"Visited = \", visited)\n",
    "                print(\"Queue =\", queue)\n",
    "        \n",
    "    print(\"Reachable Nodes =\", visited)"
   ]
  },
  {
   "cell_type": "code",
   "execution_count": 27,
   "metadata": {},
   "outputs": [
    {
     "name": "stdout",
     "output_type": "stream",
     "text": [
      "Visited =  set()\n",
      "Queue = deque([0])\n",
      "Vertex = 0\n",
      "Visited =  {0, 1}\n",
      "Queue = deque([1])\n",
      "Visited =  {0, 1, 2}\n",
      "Queue = deque([1, 2])\n",
      "Vertex = 1\n",
      "Visited =  {0, 1, 2, 3}\n",
      "Queue = deque([2, 3])\n",
      "Vertex = 2\n",
      "Vertex = 3\n",
      "Reachable Nodes = {0, 1, 2, 3}\n"
     ]
    }
   ],
   "source": [
    "if __name__ == '__main__':\n",
    "    graph = {0: [1, 2], 1: [2, 0, 3], 2: [3, 1], 3: [1, 2]} \n",
    "    bfs(graph, 0)"
   ]
  },
  {
   "cell_type": "code",
   "execution_count": null,
   "metadata": {},
   "outputs": [],
   "source": []
  }
 ],
 "metadata": {
  "kernelspec": {
   "display_name": "Python 3",
   "language": "python",
   "name": "python3"
  },
  "language_info": {
   "codemirror_mode": {
    "name": "ipython",
    "version": 3
   },
   "file_extension": ".py",
   "mimetype": "text/x-python",
   "name": "python",
   "nbconvert_exporter": "python",
   "pygments_lexer": "ipython3",
   "version": "3.6.6"
  }
 },
 "nbformat": 4,
 "nbformat_minor": 2
}
