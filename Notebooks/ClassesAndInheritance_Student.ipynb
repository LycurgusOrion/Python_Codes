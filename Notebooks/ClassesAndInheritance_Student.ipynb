{
 "cells": [
  {
   "cell_type": "code",
   "execution_count": 1,
   "metadata": {},
   "outputs": [],
   "source": [
    "class Student:\n",
    "    \n",
    "    def __init__(self, name, rno):\n",
    "        self.__rno__ = rno\n",
    "        self.__name__ = name\n",
    "    \n",
    "    \n",
    "    def getAttributes(self):\n",
    "        return self.__rno__, self.__name__\n",
    "    \n",
    "    \n",
    "    def display(self, init=1):\n",
    "        print(\"====================\")\n",
    "        print(\"====================\")\n",
    "        print(\"Student Info\")\n",
    "        print(\"====================\")\n",
    "        print(\"====================\")\n",
    "        print(\"Roll No.:\", self.__rno__)\n",
    "        print(\"====================\")\n",
    "        print(\"Name:\", self.__name__)\n",
    "        print(\"====================\")"
   ]
  },
  {
   "cell_type": "code",
   "execution_count": 2,
   "metadata": {},
   "outputs": [],
   "source": [
    "class Courses(Student):\n",
    "    \n",
    "    # cnames -> list of names of courses\n",
    "    # ccreds -> list of credits, in each course\n",
    "    def __init__(self, name, rno, cnames, ccreds):\n",
    "        super().__init__(name, rno)\n",
    "        self.__cnames__ = cnames\n",
    "        self.__ccreds__ = ccreds\n",
    "    \n",
    "    \n",
    "    def getAttributes(self):\n",
    "        return super().getAttributes(self), self.__cnames__, self.__ccreds__\n",
    "    \n",
    "    \n",
    "    def display(self, init=1):\n",
    "        if init is 1: super().display(self)\n",
    "        print(\"Courses:\", self.__cnames__)\n",
    "        print(\"====================\")\n",
    "        print(\"Credits:\", self.__ccreds__)\n",
    "        print(\"====================\")\n",
    "        \n",
    "    \n",
    "    def totalCredits(self):\n",
    "        return int(reduce(lambda x, y: x + y, ccreds))"
   ]
  },
  {
   "cell_type": "code",
   "execution_count": 3,
   "metadata": {},
   "outputs": [],
   "source": [
    "class Sports(Student):\n",
    "    \n",
    "    # snames -> list of names of sports\n",
    "    # screds -> list of credits, in each sport\n",
    "    def __init__(self, name, rno, snames, screds):\n",
    "        super().__init__(name, rno)\n",
    "        self.__snames__ = snames\n",
    "        self.__screds__ = screds\n",
    "    \n",
    "    \n",
    "    def getAttributes(self):\n",
    "        return super().getAttributes(self), self.__snames__, self.__screds__\n",
    "    \n",
    "    \n",
    "    def display(self, init=0):\n",
    "        if init is 1: super().display(self)\n",
    "        print(\"Sports:\", self.__snames__)\n",
    "        print(\"====================\")\n",
    "        print(\"Credits:\", self.__screds__)\n",
    "        print(\"====================\")\n",
    "        \n",
    "    \n",
    "    def totalCredits(self):\n",
    "        return int(reduce(lambda x, y: x + y, screds))"
   ]
  },
  {
   "cell_type": "code",
   "execution_count": null,
   "metadata": {},
   "outputs": [],
   "source": [
    "class Score(Courses, Sports):\n",
    "    \n",
    "    def __init__(self, name, rno, cnames, ccreds, snames, screds):\n",
    "        Courses.__init__(name, rno, cnames, ccreds)\n",
    "        Sports.__init__(name, rno, snames, screds)\n",
    "    \n",
    "    \n",
    "    def display(self, init=1):\n",
    "        Courses.display(self)\n",
    "        Sports.display(self)\n",
    "    \n",
    "    \n",
    "    def totalCredits(self):\n",
    "        return Courses.totalCredits(self) + Sports.totalCredits(self)"
   ]
  }
 ],
 "metadata": {
  "kernelspec": {
   "display_name": "Python 3",
   "language": "python",
   "name": "python3"
  },
  "language_info": {
   "codemirror_mode": {
    "name": "ipython",
    "version": 3
   },
   "file_extension": ".py",
   "mimetype": "text/x-python",
   "name": "python",
   "nbconvert_exporter": "python",
   "pygments_lexer": "ipython3",
   "version": "3.6.6"
  }
 },
 "nbformat": 4,
 "nbformat_minor": 2
}
