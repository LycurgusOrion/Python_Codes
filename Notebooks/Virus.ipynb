{
 "cells": [
  {
   "cell_type": "code",
   "execution_count": 24,
   "metadata": {},
   "outputs": [],
   "source": [
    "import pyautogui as pg\n",
    "# Ensure Failsafe for testing\n",
    "pg.FAILSAFE = True if (__name__ == \"__main__\") else False\n",
    "pg.PAUSE = 0.1"
   ]
  },
  {
   "cell_type": "markdown",
   "metadata": {},
   "source": [
    "### Infinite Workspace Switcher"
   ]
  },
  {
   "cell_type": "code",
   "execution_count": 23,
   "metadata": {},
   "outputs": [
    {
     "name": "stdout",
     "output_type": "stream",
     "text": [
      "hehe\n"
     ]
    }
   ],
   "source": [
    "try:\n",
    "    pg.keyDown(\"ctrl\")\n",
    "    pg.keyDown(\"win\")\n",
    "    while True:\n",
    "        pg.press(\"right\")\n",
    "        pg.press(\"left\")\n",
    "except:\n",
    "    print(\"hehe\")"
   ]
  },
  {
   "cell_type": "markdown",
   "metadata": {},
   "source": [
    "### Infinite Windows Explorer ###\n",
    "##### ***WARNING*** will carsh windows explorer"
   ]
  },
  {
   "cell_type": "code",
   "execution_count": 8,
   "metadata": {},
   "outputs": [
    {
     "name": "stdout",
     "output_type": "stream",
     "text": [
      "hehehe\n"
     ]
    }
   ],
   "source": [
    "try:\n",
    "    while True:\n",
    "        pg.hotkey(\"win\", \"e\")\n",
    "except:\n",
    "    print(\"hehehe\")"
   ]
  },
  {
   "cell_type": "markdown",
   "metadata": {},
   "source": [
    "### Make Folder"
   ]
  },
  {
   "cell_type": "code",
   "execution_count": 21,
   "metadata": {},
   "outputs": [],
   "source": [
    "import time\n",
    "time.sleep(2)\n",
    "\n",
    "# names = [\"Skewness\", \"Variance\", \"Standard Deviation And Coefficient Of Variation\", \"Covariance\", \"Correlation Coefficient\"]\n",
    "\n",
    "for i in names:\n",
    "    pg.hotkey(\"ctrl\", \"shift\", \"n\")\n",
    "    pg.typewrite(i)\n",
    "    pg.press(\"enter\")"
   ]
  },
  {
   "cell_type": "code",
   "execution_count": null,
   "metadata": {},
   "outputs": [],
   "source": []
  }
 ],
 "metadata": {
  "kernelspec": {
   "display_name": "Python 3",
   "language": "python",
   "name": "python3"
  },
  "language_info": {
   "codemirror_mode": {
    "name": "ipython",
    "version": 3
   },
   "file_extension": ".py",
   "mimetype": "text/x-python",
   "name": "python",
   "nbconvert_exporter": "python",
   "pygments_lexer": "ipython3",
   "version": "3.6.6"
  }
 },
 "nbformat": 4,
 "nbformat_minor": 2
}
