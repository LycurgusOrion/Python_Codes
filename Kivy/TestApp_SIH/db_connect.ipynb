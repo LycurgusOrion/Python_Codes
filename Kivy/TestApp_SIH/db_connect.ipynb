{
 "cells": [
  {
   "cell_type": "code",
   "execution_count": 1,
   "metadata": {},
   "outputs": [],
   "source": [
    "import cx_Oracle as ox"
   ]
  },
  {
   "cell_type": "code",
   "execution_count": 2,
   "metadata": {},
   "outputs": [],
   "source": [
    "conn = ox.connect(\"ADMIN/q2GWExrEGYz9JKM@db201902191526_low\")"
   ]
  },
  {
   "cell_type": "code",
   "execution_count": 3,
   "metadata": {},
   "outputs": [],
   "source": [
    "cur = conn.cursor()"
   ]
  },
  {
   "cell_type": "code",
   "execution_count": 19,
   "metadata": {},
   "outputs": [],
   "source": [
    "statement = '''CREATE TABLE PERSON\n",
    "     (\n",
    "        NUM             NUMBER          NOT NULL , \n",
    "        FIRSTNAME       VARCHAR2(20)        NULL , \n",
    "        GENDER_CODE     CHAR(1)             NULL , \n",
    "        LASTNAME        VARCHAR2(30)        NULL , \n",
    "        CONSTRAINT PK_PERSON PRIMARY KEY (NUM)\n",
    "     )\n",
    "'''"
   ]
  },
  {
   "cell_type": "code",
   "execution_count": 23,
   "metadata": {},
   "outputs": [],
   "source": [
    "import random as rd\n",
    "names = [\"AX\", \"DF\", \"IO\", \"LP\", \"DC\"]\n",
    "g_code = [\"M\", \"F\"]\n",
    "bday = [\"4/9/2000\", \"05/10/2001\", \"08/08/2008\", \"3/5/1998\", \"5/8/2010\"]\n",
    "rows = [(i, rd.choice(names), rd.choice(g_code), rd.choice(names)) for i in range(10)]"
   ]
  },
  {
   "cell_type": "code",
   "execution_count": 24,
   "metadata": {},
   "outputs": [],
   "source": [
    "statement = '''INSERT INTO PERSON VALUES (:1, :2, :3, :4)'''"
   ]
  },
  {
   "cell_type": "code",
   "execution_count": 25,
   "metadata": {},
   "outputs": [],
   "source": [
    "# print(rows)\n",
    "cur.executemany(statement, rows)\n",
    "# cur.execute(statement)"
   ]
  },
  {
   "cell_type": "code",
   "execution_count": 26,
   "metadata": {},
   "outputs": [],
   "source": [
    "statement = '''SELECT * FROM PERSON'''"
   ]
  },
  {
   "cell_type": "code",
   "execution_count": 27,
   "metadata": {},
   "outputs": [
    {
     "data": {
      "text/plain": [
       "<cx_Oracle.Cursor on <cx_Oracle.Connection to ADMIN@db201902191526_low>>"
      ]
     },
     "execution_count": 27,
     "metadata": {},
     "output_type": "execute_result"
    }
   ],
   "source": [
    "cur.execute(statement)"
   ]
  },
  {
   "cell_type": "code",
   "execution_count": 28,
   "metadata": {},
   "outputs": [],
   "source": [
    "res = cur.fetchall()"
   ]
  },
  {
   "cell_type": "code",
   "execution_count": 29,
   "metadata": {},
   "outputs": [
    {
     "data": {
      "text/plain": [
       "[(0, 'DC', 'M', 'IO'),\n",
       " (1, 'DC', 'M', 'DC'),\n",
       " (2, 'DC', 'F', 'LP'),\n",
       " (3, 'LP', 'M', 'DF'),\n",
       " (4, 'AX', 'M', 'LP'),\n",
       " (5, 'LP', 'M', 'IO'),\n",
       " (6, 'DC', 'F', 'LP'),\n",
       " (7, 'AX', 'F', 'LP'),\n",
       " (8, 'DC', 'F', 'LP'),\n",
       " (9, 'DC', 'F', 'IO')]"
      ]
     },
     "execution_count": 29,
     "metadata": {},
     "output_type": "execute_result"
    }
   ],
   "source": [
    "res"
   ]
  },
  {
   "cell_type": "code",
   "execution_count": 36,
   "metadata": {},
   "outputs": [
    {
     "ename": "SystemExit",
     "evalue": "1",
     "output_type": "error",
     "traceback": [
      "An exception has occurred, use %tb to see the full traceback.\n",
      "\u001b[1;31mSystemExit\u001b[0m\u001b[1;31m:\u001b[0m 1\n"
     ]
    }
   ],
   "source": [
    "from kivy.app import App\n",
    "from kivy.lang import Builder\n",
    "from kivy.uix.screenmanager import ScreenManager, Screen\n",
    "\n",
    "\n",
    "\n",
    "Builder.load_string(\"\"\"\n",
    "<whoscreen>:\n",
    "    canvas:\n",
    "        Rectangle:\n",
    "            source: 'abc.jpg'\n",
    "            pos: self.pos\n",
    "            size: self.size\n",
    "    Label:\n",
    "        pos_hint:{\"x\":0,\"y\":0.4}\n",
    "        text:\"Choose User Type\"\n",
    "        font_size:30\n",
    "\n",
    "    Button:\n",
    "        on_press: root.manager.current = 'retailerscreen'\n",
    "        pos_hint:{\"x\":0.35,\"y\":0.6}\n",
    "        text:\"Retailer\"\n",
    "\n",
    "    Button:\n",
    "        pos_hint:{\"x\":0.35,\"y\":0.4}\n",
    "        text:\"Executive\"\n",
    "        on_press: root.manager.current = 'executivescreen'\n",
    "\n",
    "    Button:\n",
    "        pos_hint:{\"x\":0.35,\"y\":0.2}\n",
    "        text:\"Manufacturer\"\n",
    "        on_press: root.manager.current = 'manufacturerscreen'\n",
    "\n",
    "<retailerscreen>:\n",
    "    canvas:\n",
    "        Rectangle:\n",
    "            source: 'abc.jpg'\n",
    "            pos: self.pos\n",
    "            size: self.size       \n",
    "    Button:\n",
    "        on_press: root.manager.current = 'whoscreen'\n",
    "        on_press:nameinput.text=\"\"\n",
    "        on_press:passinput.text=\"\"\n",
    "        pos_hint:{\"x\":0,\"top\":1}\n",
    "        text:\"Back\"\n",
    "\n",
    "    Button:\n",
    "        pos_hint:{\"x\":0.2,\"y\":0.1}\n",
    "        text:\"   Forgot\\\\nPassword\"\n",
    "\n",
    "    Button:\n",
    "        pos_hint:{\"x\":0.5,\"y\":0.1}\n",
    "        text:\"Login\"\n",
    "\n",
    "\n",
    "\n",
    "    Label:\n",
    "        pos_hint:{\"x\":-0.2,\"y\":0.2}\n",
    "        text:\"Username\"\n",
    "\n",
    "    Label:\n",
    "        pos_hint:{\"x\":-0.2,\"y\":0}\n",
    "        text:\"Password\"\n",
    "    TextInput:\n",
    "        id: nameinput\n",
    "        size_hint: (.2, None)\n",
    "        height: 30\n",
    "        pos_hint:{\"x\":0.5,\"y\":0.67}\n",
    "        multiline:False\n",
    "\n",
    "    TextInput:\n",
    "        id: passinput\n",
    "        size_hint: (.2, None)\n",
    "        height: 30\n",
    "        pos_hint:{\"x\":0.5,\"y\":0.47}\n",
    "        multiline:False\n",
    "        password:True\n",
    "\n",
    "<executivescreen>:\n",
    "    canvas:\n",
    "        Rectangle:\n",
    "            source: 'abc.jpg'\n",
    "            pos: self.pos\n",
    "            size: self.size       \n",
    "    Button:\n",
    "        on_press: root.manager.current = 'whoscreen'\n",
    "        on_press:nameinput.text=\"\"\n",
    "        on_press:passinput.text=\"\"\n",
    "        pos_hint:{\"x\":0,\"top\":1}\n",
    "        text:\"Back\"\n",
    "\n",
    "    Button:\n",
    "        pos_hint:{\"x\":0.2,\"y\":0.1}\n",
    "        text:\"   Forgot\\\\nPassword\"\n",
    "\n",
    "    Button:\n",
    "        pos_hint:{\"x\":0.5,\"y\":0.1}\n",
    "        text:\"Login\"\n",
    "\n",
    "\n",
    "\n",
    "    Label:\n",
    "        pos_hint:{\"x\":-0.2,\"y\":0.2}\n",
    "        text:\"Username\"\n",
    "\n",
    "    Label:\n",
    "        pos_hint:{\"x\":-0.2,\"y\":0}\n",
    "        text:\"Password\"\n",
    "    TextInput:\n",
    "        id: nameinput\n",
    "        size_hint: (.2, None)\n",
    "        height: 30\n",
    "        pos_hint:{\"x\":0.5,\"y\":0.67}\n",
    "        multiline:False\n",
    "\n",
    "    TextInput:\n",
    "        id: passinput\n",
    "        size_hint: (.2, None)\n",
    "        height: 30\n",
    "        pos_hint:{\"x\":0.5,\"y\":0.47}\n",
    "        multiline:False\n",
    "        password:True\n",
    "\n",
    "<manufacturerscreen>:\n",
    "    canvas:\n",
    "        Rectangle:\n",
    "            source: 'abc.jpg'\n",
    "            pos: self.pos\n",
    "            size: self.size       \n",
    "    Button:\n",
    "        on_press: root.manager.current = 'whoscreen'\n",
    "        on_press:nameinput.text=\"\"\n",
    "        on_press:passinput.text=\"\"\n",
    "        pos_hint:{\"x\":0,\"top\":1}\n",
    "        text:\"Back\"\n",
    "\n",
    "    Button:\n",
    "        pos_hint:{\"x\":0.2,\"y\":0.1}\n",
    "        text:\"   Forgot\\\\nPassword\"\n",
    "\n",
    "    Button:\n",
    "        pos_hint:{\"x\":0.5,\"y\":0.1}\n",
    "        text:\"Login\"\n",
    "\n",
    "\n",
    "\n",
    "    Label:\n",
    "        pos_hint:{\"x\":-0.2,\"y\":0.2}\n",
    "        text:\"Username\"\n",
    "\n",
    "    Label:\n",
    "        pos_hint:{\"x\":-0.2,\"y\":0}\n",
    "        text:\"Password\"\n",
    "    TextInput:\n",
    "        id: nameinput\n",
    "        size_hint: (.2, None)\n",
    "        height: 30\n",
    "        pos_hint:{\"x\":0.5,\"y\":0.67}\n",
    "        multiline:False\n",
    "\n",
    "    TextInput:\n",
    "        id: passinput\n",
    "        size_hint: (.2, None)\n",
    "        height: 30\n",
    "        pos_hint:{\"x\":0.5,\"y\":0.47}\n",
    "        multiline:False\n",
    "        password:True\n",
    "\n",
    "\n",
    "\n",
    "\n",
    "<Button>:\n",
    "    color:1,1,1,1\n",
    "    font_size:16\n",
    "    size_hint:0.3,0.1\n",
    "\"\"\")\n",
    "\n",
    "\n",
    "class whoscreen(Screen):\n",
    "    pass\n",
    "class retailerscreen(Screen):\n",
    "    pass\n",
    "class executivescreen(Screen):\n",
    "    pass\n",
    "class manufacturerscreen(Screen):\n",
    "    pass\n",
    "\n",
    "\n",
    "sm = ScreenManager()\n",
    "sm.add_widget(whoscreen(name='whoscreen'))\n",
    "sm.add_widget(retailerscreen(name='retailerscreen'))\n",
    "sm.add_widget(executivescreen(name='executivescreen'))\n",
    "sm.add_widget(manufacturerscreen(name='manufacturerscreen'))\n",
    "\n",
    "\n",
    "\n",
    "class TestApp(App):\n",
    "    def build(self):\n",
    "        return sm\n",
    "\n",
    "if __name__ == '__main__':\n",
    "    TestApp().run()"
   ]
  },
  {
   "cell_type": "code",
   "execution_count": null,
   "metadata": {},
   "outputs": [],
   "source": []
  }
 ],
 "metadata": {
  "kernelspec": {
   "display_name": "Python 3",
   "language": "python",
   "name": "python3"
  },
  "language_info": {
   "codemirror_mode": {
    "name": "ipython",
    "version": 3
   },
   "file_extension": ".py",
   "mimetype": "text/x-python",
   "name": "python",
   "nbconvert_exporter": "python",
   "pygments_lexer": "ipython3",
   "version": "3.6.6"
  }
 },
 "nbformat": 4,
 "nbformat_minor": 2
}
